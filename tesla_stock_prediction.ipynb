{
 "cells": [
  {
   "cell_type": "markdown",
   "metadata": {},
   "source": [
    "### Stock Market Prediction And Forecasting Using Stacked LSTM"
   ]
  },
  {
   "cell_type": "code",
   "execution_count": null,
   "metadata": {},
   "outputs": [],
   "source": [
    "### Keras and Tensorflow >2.0"
   ]
  },
  {
   "cell_type": "code",
   "execution_count": 403,
   "metadata": {},
   "outputs": [],
   "source": [
    "# ### Data Collection\n",
    "# import pandas_datareader as pdr\n",
    "# key=\"\""
   ]
  },
  {
   "cell_type": "code",
   "execution_count": 404,
   "metadata": {},
   "outputs": [],
   "source": [
    "# df = pdr.get_data_tiingo('AAPL', api_key=key)"
   ]
  },
  {
   "cell_type": "code",
   "execution_count": 283,
   "metadata": {},
   "outputs": [],
   "source": [
    "# df.to_csv('AAPL.csv')"
   ]
  },
  {
   "cell_type": "code",
   "execution_count": 31,
   "metadata": {},
   "outputs": [],
   "source": [
    "import pandas as pd"
   ]
  },
  {
   "cell_type": "code",
   "execution_count": 32,
   "metadata": {},
   "outputs": [],
   "source": [
    "df=pd.read_csv('Tesla.csv')"
   ]
  },
  {
   "cell_type": "code",
   "execution_count": 33,
   "metadata": {},
   "outputs": [
    {
     "data": {
      "text/html": [
       "<div>\n",
       "<style scoped>\n",
       "    .dataframe tbody tr th:only-of-type {\n",
       "        vertical-align: middle;\n",
       "    }\n",
       "\n",
       "    .dataframe tbody tr th {\n",
       "        vertical-align: top;\n",
       "    }\n",
       "\n",
       "    .dataframe thead th {\n",
       "        text-align: right;\n",
       "    }\n",
       "</style>\n",
       "<table border=\"1\" class=\"dataframe\">\n",
       "  <thead>\n",
       "    <tr style=\"text-align: right;\">\n",
       "      <th></th>\n",
       "      <th>Date</th>\n",
       "      <th>Close</th>\n",
       "      <th>Volume</th>\n",
       "      <th>Open</th>\n",
       "      <th>High</th>\n",
       "      <th>Low</th>\n",
       "    </tr>\n",
       "  </thead>\n",
       "  <tbody>\n",
       "    <tr>\n",
       "      <th>0</th>\n",
       "      <td>08/16/2024</td>\n",
       "      <td>$216.12</td>\n",
       "      <td>88765120</td>\n",
       "      <td>$211.15</td>\n",
       "      <td>$219.80</td>\n",
       "      <td>$210.80</td>\n",
       "    </tr>\n",
       "    <tr>\n",
       "      <th>1</th>\n",
       "      <td>08/15/2024</td>\n",
       "      <td>$214.14</td>\n",
       "      <td>89848530</td>\n",
       "      <td>$205.02</td>\n",
       "      <td>$215.88</td>\n",
       "      <td>$204.82</td>\n",
       "    </tr>\n",
       "    <tr>\n",
       "      <th>2</th>\n",
       "      <td>08/14/2024</td>\n",
       "      <td>$201.38</td>\n",
       "      <td>70250010</td>\n",
       "      <td>$207.39</td>\n",
       "      <td>$208.44</td>\n",
       "      <td>$198.75</td>\n",
       "    </tr>\n",
       "    <tr>\n",
       "      <th>3</th>\n",
       "      <td>08/13/2024</td>\n",
       "      <td>$207.83</td>\n",
       "      <td>76247390</td>\n",
       "      <td>$198.47</td>\n",
       "      <td>$208.49</td>\n",
       "      <td>$197.06</td>\n",
       "    </tr>\n",
       "    <tr>\n",
       "      <th>4</th>\n",
       "      <td>08-12-2024</td>\n",
       "      <td>$197.49</td>\n",
       "      <td>64044900</td>\n",
       "      <td>$199.02</td>\n",
       "      <td>$199.26</td>\n",
       "      <td>$194.67</td>\n",
       "    </tr>\n",
       "  </tbody>\n",
       "</table>\n",
       "</div>"
      ],
      "text/plain": [
       "         Date    Close    Volume     Open     High      Low\n",
       "0  08/16/2024  $216.12  88765120  $211.15  $219.80  $210.80\n",
       "1  08/15/2024  $214.14  89848530  $205.02  $215.88  $204.82\n",
       "2  08/14/2024  $201.38  70250010  $207.39  $208.44  $198.75\n",
       "3  08/13/2024  $207.83  76247390  $198.47  $208.49  $197.06\n",
       "4  08-12-2024  $197.49  64044900  $199.02  $199.26  $194.67"
      ]
     },
     "execution_count": 33,
     "metadata": {},
     "output_type": "execute_result"
    }
   ],
   "source": [
    "df.head()"
   ]
  },
  {
   "cell_type": "code",
   "execution_count": 34,
   "metadata": {},
   "outputs": [],
   "source": [
    "df['Close'] = df['Close'].str.replace('$', '').str.replace(',', '').astype(float)\n"
   ]
  },
  {
   "cell_type": "code",
   "execution_count": 35,
   "metadata": {},
   "outputs": [
    {
     "data": {
      "text/html": [
       "<div>\n",
       "<style scoped>\n",
       "    .dataframe tbody tr th:only-of-type {\n",
       "        vertical-align: middle;\n",
       "    }\n",
       "\n",
       "    .dataframe tbody tr th {\n",
       "        vertical-align: top;\n",
       "    }\n",
       "\n",
       "    .dataframe thead th {\n",
       "        text-align: right;\n",
       "    }\n",
       "</style>\n",
       "<table border=\"1\" class=\"dataframe\">\n",
       "  <thead>\n",
       "    <tr style=\"text-align: right;\">\n",
       "      <th></th>\n",
       "      <th>Date</th>\n",
       "      <th>Close</th>\n",
       "      <th>Volume</th>\n",
       "      <th>Open</th>\n",
       "      <th>High</th>\n",
       "      <th>Low</th>\n",
       "    </tr>\n",
       "  </thead>\n",
       "  <tbody>\n",
       "    <tr>\n",
       "      <th>2512</th>\n",
       "      <td>08/22/2014</td>\n",
       "      <td>17.1187</td>\n",
       "      <td>42495894</td>\n",
       "      <td>$16.9693</td>\n",
       "      <td>$17.13</td>\n",
       "      <td>$16.8407</td>\n",
       "    </tr>\n",
       "    <tr>\n",
       "      <th>2513</th>\n",
       "      <td>08/21/2014</td>\n",
       "      <td>16.9560</td>\n",
       "      <td>43660043</td>\n",
       "      <td>$17.1013</td>\n",
       "      <td>$17.2533</td>\n",
       "      <td>$16.884</td>\n",
       "    </tr>\n",
       "    <tr>\n",
       "      <th>2514</th>\n",
       "      <td>08/20/2014</td>\n",
       "      <td>17.0473</td>\n",
       "      <td>45192817</td>\n",
       "      <td>$16.978</td>\n",
       "      <td>$17.2493</td>\n",
       "      <td>$16.8667</td>\n",
       "    </tr>\n",
       "    <tr>\n",
       "      <th>2515</th>\n",
       "      <td>08/19/2014</td>\n",
       "      <td>17.1173</td>\n",
       "      <td>79991150</td>\n",
       "      <td>$17.258</td>\n",
       "      <td>$17.2887</td>\n",
       "      <td>$16.7747</td>\n",
       "    </tr>\n",
       "    <tr>\n",
       "      <th>2516</th>\n",
       "      <td>08/18/2014</td>\n",
       "      <td>17.3293</td>\n",
       "      <td>87462931</td>\n",
       "      <td>$17.55</td>\n",
       "      <td>$17.8173</td>\n",
       "      <td>$17.3167</td>\n",
       "    </tr>\n",
       "  </tbody>\n",
       "</table>\n",
       "</div>"
      ],
      "text/plain": [
       "            Date    Close    Volume      Open      High       Low\n",
       "2512  08/22/2014  17.1187  42495894  $16.9693    $17.13  $16.8407\n",
       "2513  08/21/2014  16.9560  43660043  $17.1013  $17.2533   $16.884\n",
       "2514  08/20/2014  17.0473  45192817   $16.978  $17.2493  $16.8667\n",
       "2515  08/19/2014  17.1173  79991150   $17.258  $17.2887  $16.7747\n",
       "2516  08/18/2014  17.3293  87462931    $17.55  $17.8173  $17.3167"
      ]
     },
     "execution_count": 35,
     "metadata": {},
     "output_type": "execute_result"
    }
   ],
   "source": [
    "df.tail()"
   ]
  },
  {
   "cell_type": "code",
   "execution_count": 36,
   "metadata": {},
   "outputs": [],
   "source": [
    "df1=df.reset_index()['Close']"
   ]
  },
  {
   "cell_type": "code",
   "execution_count": 37,
   "metadata": {},
   "outputs": [
    {
     "data": {
      "text/plain": [
       "0       216.1200\n",
       "1       214.1400\n",
       "2       201.3800\n",
       "3       207.8300\n",
       "4       197.4900\n",
       "          ...   \n",
       "2512     17.1187\n",
       "2513     16.9560\n",
       "2514     17.0473\n",
       "2515     17.1173\n",
       "2516     17.3293\n",
       "Name: Close, Length: 2517, dtype: float64"
      ]
     },
     "execution_count": 37,
     "metadata": {},
     "output_type": "execute_result"
    }
   ],
   "source": [
    "df1"
   ]
  },
  {
   "cell_type": "code",
   "execution_count": 38,
   "metadata": {},
   "outputs": [
    {
     "data": {
      "text/html": [
       "<div>\n",
       "<style scoped>\n",
       "    .dataframe tbody tr th:only-of-type {\n",
       "        vertical-align: middle;\n",
       "    }\n",
       "\n",
       "    .dataframe tbody tr th {\n",
       "        vertical-align: top;\n",
       "    }\n",
       "\n",
       "    .dataframe thead th {\n",
       "        text-align: right;\n",
       "    }\n",
       "</style>\n",
       "<table border=\"1\" class=\"dataframe\">\n",
       "  <thead>\n",
       "    <tr style=\"text-align: right;\">\n",
       "      <th></th>\n",
       "      <th>Date</th>\n",
       "      <th>Close</th>\n",
       "      <th>Volume</th>\n",
       "      <th>Open</th>\n",
       "      <th>High</th>\n",
       "      <th>Low</th>\n",
       "    </tr>\n",
       "  </thead>\n",
       "  <tbody>\n",
       "    <tr>\n",
       "      <th>0</th>\n",
       "      <td>08/16/2024</td>\n",
       "      <td>216.1200</td>\n",
       "      <td>88765120</td>\n",
       "      <td>$211.15</td>\n",
       "      <td>$219.80</td>\n",
       "      <td>$210.80</td>\n",
       "    </tr>\n",
       "    <tr>\n",
       "      <th>1</th>\n",
       "      <td>08/15/2024</td>\n",
       "      <td>214.1400</td>\n",
       "      <td>89848530</td>\n",
       "      <td>$205.02</td>\n",
       "      <td>$215.88</td>\n",
       "      <td>$204.82</td>\n",
       "    </tr>\n",
       "    <tr>\n",
       "      <th>2</th>\n",
       "      <td>08/14/2024</td>\n",
       "      <td>201.3800</td>\n",
       "      <td>70250010</td>\n",
       "      <td>$207.39</td>\n",
       "      <td>$208.44</td>\n",
       "      <td>$198.75</td>\n",
       "    </tr>\n",
       "    <tr>\n",
       "      <th>3</th>\n",
       "      <td>08/13/2024</td>\n",
       "      <td>207.8300</td>\n",
       "      <td>76247390</td>\n",
       "      <td>$198.47</td>\n",
       "      <td>$208.49</td>\n",
       "      <td>$197.06</td>\n",
       "    </tr>\n",
       "    <tr>\n",
       "      <th>4</th>\n",
       "      <td>08-12-2024</td>\n",
       "      <td>197.4900</td>\n",
       "      <td>64044900</td>\n",
       "      <td>$199.02</td>\n",
       "      <td>$199.26</td>\n",
       "      <td>$194.67</td>\n",
       "    </tr>\n",
       "    <tr>\n",
       "      <th>...</th>\n",
       "      <td>...</td>\n",
       "      <td>...</td>\n",
       "      <td>...</td>\n",
       "      <td>...</td>\n",
       "      <td>...</td>\n",
       "      <td>...</td>\n",
       "    </tr>\n",
       "    <tr>\n",
       "      <th>2512</th>\n",
       "      <td>08/22/2014</td>\n",
       "      <td>17.1187</td>\n",
       "      <td>42495894</td>\n",
       "      <td>$16.9693</td>\n",
       "      <td>$17.13</td>\n",
       "      <td>$16.8407</td>\n",
       "    </tr>\n",
       "    <tr>\n",
       "      <th>2513</th>\n",
       "      <td>08/21/2014</td>\n",
       "      <td>16.9560</td>\n",
       "      <td>43660043</td>\n",
       "      <td>$17.1013</td>\n",
       "      <td>$17.2533</td>\n",
       "      <td>$16.884</td>\n",
       "    </tr>\n",
       "    <tr>\n",
       "      <th>2514</th>\n",
       "      <td>08/20/2014</td>\n",
       "      <td>17.0473</td>\n",
       "      <td>45192817</td>\n",
       "      <td>$16.978</td>\n",
       "      <td>$17.2493</td>\n",
       "      <td>$16.8667</td>\n",
       "    </tr>\n",
       "    <tr>\n",
       "      <th>2515</th>\n",
       "      <td>08/19/2014</td>\n",
       "      <td>17.1173</td>\n",
       "      <td>79991150</td>\n",
       "      <td>$17.258</td>\n",
       "      <td>$17.2887</td>\n",
       "      <td>$16.7747</td>\n",
       "    </tr>\n",
       "    <tr>\n",
       "      <th>2516</th>\n",
       "      <td>08/18/2014</td>\n",
       "      <td>17.3293</td>\n",
       "      <td>87462931</td>\n",
       "      <td>$17.55</td>\n",
       "      <td>$17.8173</td>\n",
       "      <td>$17.3167</td>\n",
       "    </tr>\n",
       "  </tbody>\n",
       "</table>\n",
       "<p>2517 rows × 6 columns</p>\n",
       "</div>"
      ],
      "text/plain": [
       "            Date     Close    Volume      Open      High       Low\n",
       "0     08/16/2024  216.1200  88765120   $211.15   $219.80   $210.80\n",
       "1     08/15/2024  214.1400  89848530   $205.02   $215.88   $204.82\n",
       "2     08/14/2024  201.3800  70250010   $207.39   $208.44   $198.75\n",
       "3     08/13/2024  207.8300  76247390   $198.47   $208.49   $197.06\n",
       "4     08-12-2024  197.4900  64044900   $199.02   $199.26   $194.67\n",
       "...          ...       ...       ...       ...       ...       ...\n",
       "2512  08/22/2014   17.1187  42495894  $16.9693    $17.13  $16.8407\n",
       "2513  08/21/2014   16.9560  43660043  $17.1013  $17.2533   $16.884\n",
       "2514  08/20/2014   17.0473  45192817   $16.978  $17.2493  $16.8667\n",
       "2515  08/19/2014   17.1173  79991150   $17.258  $17.2887  $16.7747\n",
       "2516  08/18/2014   17.3293  87462931    $17.55  $17.8173  $17.3167\n",
       "\n",
       "[2517 rows x 6 columns]"
      ]
     },
     "execution_count": 38,
     "metadata": {},
     "output_type": "execute_result"
    }
   ],
   "source": [
    "df"
   ]
  },
  {
   "cell_type": "code",
   "execution_count": 39,
   "metadata": {},
   "outputs": [
    {
     "data": {
      "text/plain": [
       "[<matplotlib.lines.Line2D at 0x1a5632a10d0>]"
      ]
     },
     "execution_count": 39,
     "metadata": {},
     "output_type": "execute_result"
    },
    {
     "data": {
      "image/png": "[encoded data removed]",
      "text/plain": [
       "<Figure size 640x480 with 1 Axes>"
      ]
     },
     "metadata": {},
     "output_type": "display_data"
    }
   ],
   "source": [
    "import matplotlib.pyplot as plt\n",
    "plt.plot(df1)"
   ]
  },
  {
   "cell_type": "code",
   "execution_count": null,
   "metadata": {},
   "outputs": [],
   "source": []
  },
  {
   "cell_type": "code",
   "execution_count": 40,
   "metadata": {},
   "outputs": [],
   "source": [
    "### LSTM are sensitive to the scale of the data. so we apply MinMax scaler "
   ]
  },
  {
   "cell_type": "code",
   "execution_count": 41,
   "metadata": {},
   "outputs": [],
   "source": [
    "import numpy as np"
   ]
  },
  {
   "cell_type": "code",
   "execution_count": 42,
   "metadata": {},
   "outputs": [
    {
     "data": {
      "text/plain": [
       "0       216.1200\n",
       "1       214.1400\n",
       "2       201.3800\n",
       "3       207.8300\n",
       "4       197.4900\n",
       "          ...   \n",
       "2512     17.1187\n",
       "2513     16.9560\n",
       "2514     17.0473\n",
       "2515     17.1173\n",
       "2516     17.3293\n",
       "Name: Close, Length: 2517, dtype: float64"
      ]
     },
     "execution_count": 42,
     "metadata": {},
     "output_type": "execute_result"
    }
   ],
   "source": [
    "df1"
   ]
  },
  {
   "cell_type": "code",
   "execution_count": 43,
   "metadata": {},
   "outputs": [],
   "source": [
    "from sklearn.preprocessing import MinMaxScaler\n",
    "scaler=MinMaxScaler(feature_range=(0,1))\n",
    "df1=scaler.fit_transform(np.array(df1).reshape(-1,1))"
   ]
  },
  {
   "cell_type": "code",
   "execution_count": 44,
   "metadata": {},
   "outputs": [
    {
     "name": "stdout",
     "output_type": "stream",
     "text": [
      "[[0.51584947]\n",
      " [0.51090431]\n",
      " [0.47903555]\n",
      " ...\n",
      " [0.01865497]\n",
      " [0.0188298 ]\n",
      " [0.01935928]]\n"
     ]
    }
   ],
   "source": [
    "print(df1)"
   ]
  },
  {
   "cell_type": "code",
   "execution_count": 45,
   "metadata": {},
   "outputs": [],
   "source": [
    "##splitting dataset into train and test split\n",
    "training_size=int(len(df1)*0.65)\n",
    "test_size=len(df1)-training_size\n",
    "train_data,test_data=df1[0:training_size,:],df1[training_size:len(df1),:1]"
   ]
  },
  {
   "cell_type": "code",
   "execution_count": 46,
   "metadata": {},
   "outputs": [
    {
     "data": {
      "text/plain": [
       "(1636, 881)"
      ]
     },
     "execution_count": 46,
     "metadata": {},
     "output_type": "execute_result"
    }
   ],
   "source": [
    "training_size,test_size"
   ]
  },
  {
   "cell_type": "code",
   "execution_count": 47,
   "metadata": {},
   "outputs": [
    {
     "data": {
      "text/plain": [
       "array([[0.51584947],\n",
       "       [0.51090431],\n",
       "       [0.47903555],\n",
       "       ...,\n",
       "       [0.03181882],\n",
       "       [0.0319387 ],\n",
       "       [0.03170143]])"
      ]
     },
     "execution_count": 47,
     "metadata": {},
     "output_type": "execute_result"
    }
   ],
   "source": [
    "train_data"
   ]
  },
  {
   "cell_type": "code",
   "execution_count": 88,
   "metadata": {},
   "outputs": [],
   "source": [
    "import numpy\n",
    "# convert an array of values into a dataset matrix\n",
    "def create_dataset(dataset, time_step=1):\n",
    "\tdataX, dataY = [], []\n",
    "\tfor i in range(len(dataset)-time_step-1):\n",
    "\t\ta = dataset[i:(i+time_step), 0]   ###i=0, 0,1,2,3-----99   100 \n",
    "\t\tdataX.append(a)\n",
    "\t\tdataY.append(dataset[i + time_step, 0])\n",
    "\treturn numpy.array(dataX), numpy.array(dataY)"
   ]
  },
  {
   "cell_type": "code",
   "execution_count": 89,
   "metadata": {},
   "outputs": [],
   "source": [
    "# reshape into X=t,t+1,t+2,t+3 and Y=t+4\n",
    "time_step = 300\n",
    "X_train, y_train = create_dataset(train_data, time_step)\n",
    "X_test, ytest = create_dataset(test_data, time_step)"
   ]
  },
  {
   "cell_type": "code",
   "execution_count": 90,
   "metadata": {},
   "outputs": [
    {
     "name": "stdout",
     "output_type": "stream",
     "text": [
      "(1335, 300)\n",
      "(1335,)\n"
     ]
    },
    {
     "data": {
      "text/plain": [
       "(None, None)"
      ]
     },
     "execution_count": 90,
     "metadata": {},
     "output_type": "execute_result"
    }
   ],
   "source": [
    "print(X_train.shape), print(y_train.shape)"
   ]
  },
  {
   "cell_type": "code",
   "execution_count": 91,
   "metadata": {},
   "outputs": [
    {
     "name": "stdout",
     "output_type": "stream",
     "text": [
      "(580, 300)\n",
      "(580,)\n"
     ]
    },
    {
     "data": {
      "text/plain": [
       "(None, None)"
      ]
     },
     "execution_count": 91,
     "metadata": {},
     "output_type": "execute_result"
    }
   ],
   "source": [
    "print(X_test.shape), print(ytest.shape)"
   ]
  },
  {
   "cell_type": "code",
   "execution_count": 92,
   "metadata": {},
   "outputs": [],
   "source": [
    "# reshape input to be [samples, time steps, features] which is required for LSTM\n",
    "X_train =X_train.reshape(X_train.shape[0],X_train.shape[1] , 1)\n",
    "X_test = X_test.reshape(X_test.shape[0],X_test.shape[1] , 1)"
   ]
  },
  {
   "cell_type": "code",
   "execution_count": 96,
   "metadata": {},
   "outputs": [],
   "source": [
    "### Create the Stacked LSTM model\n",
    "from tensorflow.keras.models import Sequential\n",
    "from tensorflow.keras.layers import Dense\n",
    "from tensorflow.keras.layers import LSTM"
   ]
  },
  {
   "cell_type": "code",
   "execution_count": 97,
   "metadata": {},
   "outputs": [],
   "source": [
    "model=Sequential()\n",
    "model.add(LSTM(150,return_sequences=True,input_shape=(300,1)))\n",
    "model.add(LSTM(150,return_sequences=True))\n",
    "model.add(LSTM(150))\n",
    "model.add(Dense(1))\n",
    "model.compile(loss='mean_squared_error',optimizer='adam')\n"
   ]
  },
  {
   "cell_type": "code",
   "execution_count": 98,
   "metadata": {},
   "outputs": [
    {
     "data": {
      "text/html": [
       "<pre style=\"white-space:pre;overflow-x:auto;line-height:normal;font-family:Menlo,'DejaVu Sans Mono',consolas,'Courier New',monospace\"><span style=\"font-weight: bold\">Model: \"sequential_2\"</span>\n",
       "</pre>\n"
      ],
      "text/plain": [
       "\u001b[1mModel: \"sequential_2\"\u001b[0m\n"
      ]
     },
     "metadata": {},
     "output_type": "display_data"
    },
    {
     "data": {
      "text/html": [
       "<pre style=\"white-space:pre;overflow-x:auto;line-height:normal;font-family:Menlo,'DejaVu Sans Mono',consolas,'Courier New',monospace\">┏━━━━━━━━━━━━━━━━━━━━━━━━━━━━━━━━━━━━━━┳━━━━━━━━━━━━━━━━━━━━━━━━━━━━━┳━━━━━━━━━━━━━━━━━┓\n",
       "┃<span style=\"font-weight: bold\"> Layer (type)                         </span>┃<span style=\"font-weight: bold\"> Output Shape                </span>┃<span style=\"font-weight: bold\">         Param # </span>┃\n",
       "┡━━━━━━━━━━━━━━━━━━━━━━━━━━━━━━━━━━━━━━╇━━━━━━━━━━━━━━━━━━━━━━━━━━━━━╇━━━━━━━━━━━━━━━━━┩\n",
       "│ lstm_6 (<span style=\"color: #0087ff; text-decoration-color: #0087ff\">LSTM</span>)                        │ (<span style=\"color: #00d7ff; text-decoration-color: #00d7ff\">None</span>, <span style=\"color: #00af00; text-decoration-color: #00af00\">300</span>, <span style=\"color: #00af00; text-decoration-color: #00af00\">150</span>)            │          <span style=\"color: #00af00; text-decoration-color: #00af00\">91,200</span> │\n",
       "├──────────────────────────────────────┼─────────────────────────────┼─────────────────┤\n",
       "│ lstm_7 (<span style=\"color: #0087ff; text-decoration-color: #0087ff\">LSTM</span>)                        │ (<span style=\"color: #00d7ff; text-decoration-color: #00d7ff\">None</span>, <span style=\"color: #00af00; text-decoration-color: #00af00\">300</span>, <span style=\"color: #00af00; text-decoration-color: #00af00\">150</span>)            │         <span style=\"color: #00af00; text-decoration-color: #00af00\">180,600</span> │\n",
       "├──────────────────────────────────────┼─────────────────────────────┼─────────────────┤\n",
       "│ lstm_8 (<span style=\"color: #0087ff; text-decoration-color: #0087ff\">LSTM</span>)                        │ (<span style=\"color: #00d7ff; text-decoration-color: #00d7ff\">None</span>, <span style=\"color: #00af00; text-decoration-color: #00af00\">150</span>)                 │         <span style=\"color: #00af00; text-decoration-color: #00af00\">180,600</span> │\n",
       "├──────────────────────────────────────┼─────────────────────────────┼─────────────────┤\n",
       "│ dense_2 (<span style=\"color: #0087ff; text-decoration-color: #0087ff\">Dense</span>)                      │ (<span style=\"color: #00d7ff; text-decoration-color: #00d7ff\">None</span>, <span style=\"color: #00af00; text-decoration-color: #00af00\">1</span>)                   │             <span style=\"color: #00af00; text-decoration-color: #00af00\">151</span> │\n",
       "└──────────────────────────────────────┴─────────────────────────────┴─────────────────┘\n",
       "</pre>\n"
      ],
      "text/plain": [
       "┏━━━━━━━━━━━━━━━━━━━━━━━━━━━━━━━━━━━━━━┳━━━━━━━━━━━━━━━━━━━━━━━━━━━━━┳━━━━━━━━━━━━━━━━━┓\n",
       "┃\u001b[1m \u001b[0m\u001b[1mLayer (type)                        \u001b[0m\u001b[1m \u001b[0m┃\u001b[1m \u001b[0m\u001b[1mOutput Shape               \u001b[0m\u001b[1m \u001b[0m┃\u001b[1m \u001b[0m\u001b[1m        Param #\u001b[0m\u001b[1m \u001b[0m┃\n",
       "┡━━━━━━━━━━━━━━━━━━━━━━━━━━━━━━━━━━━━━━╇━━━━━━━━━━━━━━━━━━━━━━━━━━━━━╇━━━━━━━━━━━━━━━━━┩\n",
       "│ lstm_6 (\u001b[38;5;33mLSTM\u001b[0m)                        │ (\u001b[38;5;45mNone\u001b[0m, \u001b[38;5;34m300\u001b[0m, \u001b[38;5;34m150\u001b[0m)            │          \u001b[38;5;34m91,200\u001b[0m │\n",
       "├──────────────────────────────────────┼─────────────────────────────┼─────────────────┤\n",
       "│ lstm_7 (\u001b[38;5;33mLSTM\u001b[0m)                        │ (\u001b[38;5;45mNone\u001b[0m, \u001b[38;5;34m300\u001b[0m, \u001b[38;5;34m150\u001b[0m)            │         \u001b[38;5;34m180,600\u001b[0m │\n",
       "├──────────────────────────────────────┼─────────────────────────────┼─────────────────┤\n",
       "│ lstm_8 (\u001b[38;5;33mLSTM\u001b[0m)                        │ (\u001b[38;5;45mNone\u001b[0m, \u001b[38;5;34m150\u001b[0m)                 │         \u001b[38;5;34m180,600\u001b[0m │\n",
       "├──────────────────────────────────────┼─────────────────────────────┼─────────────────┤\n",
       "│ dense_2 (\u001b[38;5;33mDense\u001b[0m)                      │ (\u001b[38;5;45mNone\u001b[0m, \u001b[38;5;34m1\u001b[0m)                   │             \u001b[38;5;34m151\u001b[0m │\n",
       "└──────────────────────────────────────┴─────────────────────────────┴─────────────────┘\n"
      ]
     },
     "metadata": {},
     "output_type": "display_data"
    },
    {
     "data": {
      "text/html": [
       "<pre style=\"white-space:pre;overflow-x:auto;line-height:normal;font-family:Menlo,'DejaVu Sans Mono',consolas,'Courier New',monospace\"><span style=\"font-weight: bold\"> Total params: </span><span style=\"color: #00af00; text-decoration-color: #00af00\">452,551</span> (1.73 MB)\n",
       "</pre>\n"
      ],
      "text/plain": [
       "\u001b[1m Total params: \u001b[0m\u001b[38;5;34m452,551\u001b[0m (1.73 MB)\n"
      ]
     },
     "metadata": {},
     "output_type": "display_data"
    },
    {
     "data": {
      "text/html": [
       "<pre style=\"white-space:pre;overflow-x:auto;line-height:normal;font-family:Menlo,'DejaVu Sans Mono',consolas,'Courier New',monospace\"><span style=\"font-weight: bold\"> Trainable params: </span><span style=\"color: #00af00; text-decoration-color: #00af00\">452,551</span> (1.73 MB)\n",
       "</pre>\n"
      ],
      "text/plain": [
       "\u001b[1m Trainable params: \u001b[0m\u001b[38;5;34m452,551\u001b[0m (1.73 MB)\n"
      ]
     },
     "metadata": {},
     "output_type": "display_data"
    },
    {
     "data": {
      "text/html": [
       "<pre style=\"white-space:pre;overflow-x:auto;line-height:normal;font-family:Menlo,'DejaVu Sans Mono',consolas,'Courier New',monospace\"><span style=\"font-weight: bold\"> Non-trainable params: </span><span style=\"color: #00af00; text-decoration-color: #00af00\">0</span> (0.00 B)\n",
       "</pre>\n"
      ],
      "text/plain": [
       "\u001b[1m Non-trainable params: \u001b[0m\u001b[38;5;34m0\u001b[0m (0.00 B)\n"
      ]
     },
     "metadata": {},
     "output_type": "display_data"
    }
   ],
   "source": [
    "model.summary()"
   ]
  },
  {
   "cell_type": "code",
   "execution_count": 99,
   "metadata": {},
   "outputs": [
    {
     "data": {
      "text/html": [
       "<pre style=\"white-space:pre;overflow-x:auto;line-height:normal;font-family:Menlo,'DejaVu Sans Mono',consolas,'Courier New',monospace\"><span style=\"font-weight: bold\">Model: \"sequential_2\"</span>\n",
       "</pre>\n"
      ],
      "text/plain": [
       "\u001b[1mModel: \"sequential_2\"\u001b[0m\n"
      ]
     },
     "metadata": {},
     "output_type": "display_data"
    },
    {
     "data": {
      "text/html": [
       "<pre style=\"white-space:pre;overflow-x:auto;line-height:normal;font-family:Menlo,'DejaVu Sans Mono',consolas,'Courier New',monospace\">┏━━━━━━━━━━━━━━━━━━━━━━━━━━━━━━━━━━━━━━┳━━━━━━━━━━━━━━━━━━━━━━━━━━━━━┳━━━━━━━━━━━━━━━━━┓\n",
       "┃<span style=\"font-weight: bold\"> Layer (type)                         </span>┃<span style=\"font-weight: bold\"> Output Shape                </span>┃<span style=\"font-weight: bold\">         Param # </span>┃\n",
       "┡━━━━━━━━━━━━━━━━━━━━━━━━━━━━━━━━━━━━━━╇━━━━━━━━━━━━━━━━━━━━━━━━━━━━━╇━━━━━━━━━━━━━━━━━┩\n",
       "│ lstm_6 (<span style=\"color: #0087ff; text-decoration-color: #0087ff\">LSTM</span>)                        │ (<span style=\"color: #00d7ff; text-decoration-color: #00d7ff\">None</span>, <span style=\"color: #00af00; text-decoration-color: #00af00\">300</span>, <span style=\"color: #00af00; text-decoration-color: #00af00\">150</span>)            │          <span style=\"color: #00af00; text-decoration-color: #00af00\">91,200</span> │\n",
       "├──────────────────────────────────────┼─────────────────────────────┼─────────────────┤\n",
       "│ lstm_7 (<span style=\"color: #0087ff; text-decoration-color: #0087ff\">LSTM</span>)                        │ (<span style=\"color: #00d7ff; text-decoration-color: #00d7ff\">None</span>, <span style=\"color: #00af00; text-decoration-color: #00af00\">300</span>, <span style=\"color: #00af00; text-decoration-color: #00af00\">150</span>)            │         <span style=\"color: #00af00; text-decoration-color: #00af00\">180,600</span> │\n",
       "├──────────────────────────────────────┼─────────────────────────────┼─────────────────┤\n",
       "│ lstm_8 (<span style=\"color: #0087ff; text-decoration-color: #0087ff\">LSTM</span>)                        │ (<span style=\"color: #00d7ff; text-decoration-color: #00d7ff\">None</span>, <span style=\"color: #00af00; text-decoration-color: #00af00\">150</span>)                 │         <span style=\"color: #00af00; text-decoration-color: #00af00\">180,600</span> │\n",
       "├──────────────────────────────────────┼─────────────────────────────┼─────────────────┤\n",
       "│ dense_2 (<span style=\"color: #0087ff; text-decoration-color: #0087ff\">Dense</span>)                      │ (<span style=\"color: #00d7ff; text-decoration-color: #00d7ff\">None</span>, <span style=\"color: #00af00; text-decoration-color: #00af00\">1</span>)                   │             <span style=\"color: #00af00; text-decoration-color: #00af00\">151</span> │\n",
       "└──────────────────────────────────────┴─────────────────────────────┴─────────────────┘\n",
       "</pre>\n"
      ],
      "text/plain": [
       "┏━━━━━━━━━━━━━━━━━━━━━━━━━━━━━━━━━━━━━━┳━━━━━━━━━━━━━━━━━━━━━━━━━━━━━┳━━━━━━━━━━━━━━━━━┓\n",
       "┃\u001b[1m \u001b[0m\u001b[1mLayer (type)                        \u001b[0m\u001b[1m \u001b[0m┃\u001b[1m \u001b[0m\u001b[1mOutput Shape               \u001b[0m\u001b[1m \u001b[0m┃\u001b[1m \u001b[0m\u001b[1m        Param #\u001b[0m\u001b[1m \u001b[0m┃\n",
       "┡━━━━━━━━━━━━━━━━━━━━━━━━━━━━━━━━━━━━━━╇━━━━━━━━━━━━━━━━━━━━━━━━━━━━━╇━━━━━━━━━━━━━━━━━┩\n",
       "│ lstm_6 (\u001b[38;5;33mLSTM\u001b[0m)                        │ (\u001b[38;5;45mNone\u001b[0m, \u001b[38;5;34m300\u001b[0m, \u001b[38;5;34m150\u001b[0m)            │          \u001b[38;5;34m91,200\u001b[0m │\n",
       "├──────────────────────────────────────┼─────────────────────────────┼─────────────────┤\n",
       "│ lstm_7 (\u001b[38;5;33mLSTM\u001b[0m)                        │ (\u001b[38;5;45mNone\u001b[0m, \u001b[38;5;34m300\u001b[0m, \u001b[38;5;34m150\u001b[0m)            │         \u001b[38;5;34m180,600\u001b[0m │\n",
       "├──────────────────────────────────────┼─────────────────────────────┼─────────────────┤\n",
       "│ lstm_8 (\u001b[38;5;33mLSTM\u001b[0m)                        │ (\u001b[38;5;45mNone\u001b[0m, \u001b[38;5;34m150\u001b[0m)                 │         \u001b[38;5;34m180,600\u001b[0m │\n",
       "├──────────────────────────────────────┼─────────────────────────────┼─────────────────┤\n",
       "│ dense_2 (\u001b[38;5;33mDense\u001b[0m)                      │ (\u001b[38;5;45mNone\u001b[0m, \u001b[38;5;34m1\u001b[0m)                   │             \u001b[38;5;34m151\u001b[0m │\n",
       "└──────────────────────────────────────┴─────────────────────────────┴─────────────────┘\n"
      ]
     },
     "metadata": {},
     "output_type": "display_data"
    },
    {
     "data": {
      "text/html": [
       "<pre style=\"white-space:pre;overflow-x:auto;line-height:normal;font-family:Menlo,'DejaVu Sans Mono',consolas,'Courier New',monospace\"><span style=\"font-weight: bold\"> Total params: </span><span style=\"color: #00af00; text-decoration-color: #00af00\">452,551</span> (1.73 MB)\n",
       "</pre>\n"
      ],
      "text/plain": [
       "\u001b[1m Total params: \u001b[0m\u001b[38;5;34m452,551\u001b[0m (1.73 MB)\n"
      ]
     },
     "metadata": {},
     "output_type": "display_data"
    },
    {
     "data": {
      "text/html": [
       "<pre style=\"white-space:pre;overflow-x:auto;line-height:normal;font-family:Menlo,'DejaVu Sans Mono',consolas,'Courier New',monospace\"><span style=\"font-weight: bold\"> Trainable params: </span><span style=\"color: #00af00; text-decoration-color: #00af00\">452,551</span> (1.73 MB)\n",
       "</pre>\n"
      ],
      "text/plain": [
       "\u001b[1m Trainable params: \u001b[0m\u001b[38;5;34m452,551\u001b[0m (1.73 MB)\n"
      ]
     },
     "metadata": {},
     "output_type": "display_data"
    },
    {
     "data": {
      "text/html": [
       "<pre style=\"white-space:pre;overflow-x:auto;line-height:normal;font-family:Menlo,'DejaVu Sans Mono',consolas,'Courier New',monospace\"><span style=\"font-weight: bold\"> Non-trainable params: </span><span style=\"color: #00af00; text-decoration-color: #00af00\">0</span> (0.00 B)\n",
       "</pre>\n"
      ],
      "text/plain": [
       "\u001b[1m Non-trainable params: \u001b[0m\u001b[38;5;34m0\u001b[0m (0.00 B)\n"
      ]
     },
     "metadata": {},
     "output_type": "display_data"
    }
   ],
   "source": [
    "model.summary()"
   ]
  },
  {
   "cell_type": "code",
   "execution_count": null,
   "metadata": {},
   "outputs": [],
   "source": []
  },
  {
   "cell_type": "code",
   "execution_count": 100,
   "metadata": {},
   "outputs": [
    {
     "name": "stdout",
     "output_type": "stream",
     "text": [
      "Epoch 1/100\n",
      "\u001b[1m21/21\u001b[0m \u001b[32m━━━━━━━━━━━━━━━━━━━━\u001b[0m\u001b[37m\u001b[0m \u001b[1m24s\u001b[0m 1s/step - loss: 0.0696 - val_loss: 9.0355e-05\n",
      "Epoch 2/100\n",
      "\u001b[1m21/21\u001b[0m \u001b[32m━━━━━━━━━━━━━━━━━━━━\u001b[0m\u001b[37m\u001b[0m \u001b[1m22s\u001b[0m 1s/step - loss: 0.0064 - val_loss: 2.7931e-05\n",
      "Epoch 3/100\n",
      "\u001b[1m21/21\u001b[0m \u001b[32m━━━━━━━━━━━━━━━━━━━━\u001b[0m\u001b[37m\u001b[0m \u001b[1m23s\u001b[0m 1s/step - loss: 0.0026 - val_loss: 2.4934e-05\n",
      "Epoch 4/100\n",
      "\u001b[1m21/21\u001b[0m \u001b[32m━━━━━━━━━━━━━━━━━━━━\u001b[0m\u001b[37m\u001b[0m \u001b[1m25s\u001b[0m 1s/step - loss: 0.0020 - val_loss: 2.2312e-05\n",
      "Epoch 5/100\n",
      "\u001b[1m21/21\u001b[0m \u001b[32m━━━━━━━━━━━━━━━━━━━━\u001b[0m\u001b[37m\u001b[0m \u001b[1m24s\u001b[0m 1s/step - loss: 0.0020 - val_loss: 1.1198e-05\n",
      "Epoch 6/100\n",
      "\u001b[1m21/21\u001b[0m \u001b[32m━━━━━━━━━━━━━━━━━━━━\u001b[0m\u001b[37m\u001b[0m \u001b[1m24s\u001b[0m 1s/step - loss: 0.0022 - val_loss: 1.3814e-05\n",
      "Epoch 7/100\n",
      "\u001b[1m21/21\u001b[0m \u001b[32m━━━━━━━━━━━━━━━━━━━━\u001b[0m\u001b[37m\u001b[0m \u001b[1m24s\u001b[0m 1s/step - loss: 0.0017 - val_loss: 9.9298e-06\n",
      "Epoch 8/100\n",
      "\u001b[1m21/21\u001b[0m \u001b[32m━━━━━━━━━━━━━━━━━━━━\u001b[0m\u001b[37m\u001b[0m \u001b[1m24s\u001b[0m 1s/step - loss: 0.0014 - val_loss: 8.3769e-06\n",
      "Epoch 9/100\n",
      "\u001b[1m21/21\u001b[0m \u001b[32m━━━━━━━━━━━━━━━━━━━━\u001b[0m\u001b[37m\u001b[0m \u001b[1m24s\u001b[0m 1s/step - loss: 0.0015 - val_loss: 7.2729e-06\n",
      "Epoch 10/100\n",
      "\u001b[1m21/21\u001b[0m \u001b[32m━━━━━━━━━━━━━━━━━━━━\u001b[0m\u001b[37m\u001b[0m \u001b[1m24s\u001b[0m 1s/step - loss: 0.0016 - val_loss: 9.4317e-06\n",
      "Epoch 11/100\n",
      "\u001b[1m21/21\u001b[0m \u001b[32m━━━━━━━━━━━━━━━━━━━━\u001b[0m\u001b[37m\u001b[0m \u001b[1m25s\u001b[0m 1s/step - loss: 0.0015 - val_loss: 8.7480e-06\n",
      "Epoch 12/100\n",
      "\u001b[1m21/21\u001b[0m \u001b[32m━━━━━━━━━━━━━━━━━━━━\u001b[0m\u001b[37m\u001b[0m \u001b[1m35s\u001b[0m 2s/step - loss: 0.0017 - val_loss: 4.2660e-06\n",
      "Epoch 13/100\n",
      "\u001b[1m21/21\u001b[0m \u001b[32m━━━━━━━━━━━━━━━━━━━━\u001b[0m\u001b[37m\u001b[0m \u001b[1m59s\u001b[0m 3s/step - loss: 0.0012 - val_loss: 3.7167e-05\n",
      "Epoch 14/100\n",
      "\u001b[1m21/21\u001b[0m \u001b[32m━━━━━━━━━━━━━━━━━━━━\u001b[0m\u001b[37m\u001b[0m \u001b[1m61s\u001b[0m 3s/step - loss: 0.0014 - val_loss: 5.2395e-06\n",
      "Epoch 15/100\n",
      "\u001b[1m21/21\u001b[0m \u001b[32m━━━━━━━━━━━━━━━━━━━━\u001b[0m\u001b[37m\u001b[0m \u001b[1m34s\u001b[0m 2s/step - loss: 0.0013 - val_loss: 2.8708e-05\n",
      "Epoch 16/100\n",
      "\u001b[1m21/21\u001b[0m \u001b[32m━━━━━━━━━━━━━━━━━━━━\u001b[0m\u001b[37m\u001b[0m \u001b[1m32s\u001b[0m 2s/step - loss: 0.0011 - val_loss: 4.4991e-06\n",
      "Epoch 17/100\n",
      "\u001b[1m21/21\u001b[0m \u001b[32m━━━━━━━━━━━━━━━━━━━━\u001b[0m\u001b[37m\u001b[0m \u001b[1m27s\u001b[0m 1s/step - loss: 0.0011 - val_loss: 1.9385e-05\n",
      "Epoch 18/100\n",
      "\u001b[1m21/21\u001b[0m \u001b[32m━━━━━━━━━━━━━━━━━━━━\u001b[0m\u001b[37m\u001b[0m \u001b[1m25s\u001b[0m 1s/step - loss: 0.0011 - val_loss: 4.7190e-05\n",
      "Epoch 19/100\n",
      "\u001b[1m21/21\u001b[0m \u001b[32m━━━━━━━━━━━━━━━━━━━━\u001b[0m\u001b[37m\u001b[0m \u001b[1m25s\u001b[0m 1s/step - loss: 0.0010 - val_loss: 4.0955e-06\n",
      "Epoch 20/100\n",
      "\u001b[1m21/21\u001b[0m \u001b[32m━━━━━━━━━━━━━━━━━━━━\u001b[0m\u001b[37m\u001b[0m \u001b[1m25s\u001b[0m 1s/step - loss: 9.3025e-04 - val_loss: 4.1068e-06\n",
      "Epoch 21/100\n",
      "\u001b[1m21/21\u001b[0m \u001b[32m━━━━━━━━━━━━━━━━━━━━\u001b[0m\u001b[37m\u001b[0m \u001b[1m28s\u001b[0m 1s/step - loss: 7.8188e-04 - val_loss: 6.5220e-06\n",
      "Epoch 22/100\n",
      "\u001b[1m21/21\u001b[0m \u001b[32m━━━━━━━━━━━━━━━━━━━━\u001b[0m\u001b[37m\u001b[0m \u001b[1m25s\u001b[0m 1s/step - loss: 0.0011 - val_loss: 3.8359e-06\n",
      "Epoch 23/100\n",
      "\u001b[1m21/21\u001b[0m \u001b[32m━━━━━━━━━━━━━━━━━━━━\u001b[0m\u001b[37m\u001b[0m \u001b[1m26s\u001b[0m 1s/step - loss: 0.0010 - val_loss: 6.8803e-06\n",
      "Epoch 24/100\n",
      "\u001b[1m21/21\u001b[0m \u001b[32m━━━━━━━━━━━━━━━━━━━━\u001b[0m\u001b[37m\u001b[0m \u001b[1m25s\u001b[0m 1s/step - loss: 0.0011 - val_loss: 3.9091e-06\n",
      "Epoch 25/100\n",
      "\u001b[1m21/21\u001b[0m \u001b[32m━━━━━━━━━━━━━━━━━━━━\u001b[0m\u001b[37m\u001b[0m \u001b[1m25s\u001b[0m 1s/step - loss: 6.3601e-04 - val_loss: 1.0772e-05\n",
      "Epoch 26/100\n",
      "\u001b[1m21/21\u001b[0m \u001b[32m━━━━━━━━━━━━━━━━━━━━\u001b[0m\u001b[37m\u001b[0m \u001b[1m25s\u001b[0m 1s/step - loss: 8.9828e-04 - val_loss: 6.8225e-06\n",
      "Epoch 27/100\n",
      "\u001b[1m21/21\u001b[0m \u001b[32m━━━━━━━━━━━━━━━━━━━━\u001b[0m\u001b[37m\u001b[0m \u001b[1m25s\u001b[0m 1s/step - loss: 0.0013 - val_loss: 2.8247e-05\n",
      "Epoch 28/100\n",
      "\u001b[1m21/21\u001b[0m \u001b[32m━━━━━━━━━━━━━━━━━━━━\u001b[0m\u001b[37m\u001b[0m \u001b[1m25s\u001b[0m 1s/step - loss: 6.2022e-04 - val_loss: 3.3736e-06\n",
      "Epoch 29/100\n",
      "\u001b[1m21/21\u001b[0m \u001b[32m━━━━━━━━━━━━━━━━━━━━\u001b[0m\u001b[37m\u001b[0m \u001b[1m25s\u001b[0m 1s/step - loss: 6.0043e-04 - val_loss: 1.6277e-05\n",
      "Epoch 30/100\n",
      "\u001b[1m21/21\u001b[0m \u001b[32m━━━━━━━━━━━━━━━━━━━━\u001b[0m\u001b[37m\u001b[0m \u001b[1m26s\u001b[0m 1s/step - loss: 7.5885e-04 - val_loss: 3.5246e-06\n",
      "Epoch 31/100\n",
      "\u001b[1m21/21\u001b[0m \u001b[32m━━━━━━━━━━━━━━━━━━━━\u001b[0m\u001b[37m\u001b[0m \u001b[1m25s\u001b[0m 1s/step - loss: 6.2729e-04 - val_loss: 5.5259e-06\n",
      "Epoch 32/100\n",
      "\u001b[1m21/21\u001b[0m \u001b[32m━━━━━━━━━━━━━━━━━━━━\u001b[0m\u001b[37m\u001b[0m \u001b[1m25s\u001b[0m 1s/step - loss: 6.2399e-04 - val_loss: 9.4789e-06\n",
      "Epoch 33/100\n",
      "\u001b[1m21/21\u001b[0m \u001b[32m━━━━━━━━━━━━━━━━━━━━\u001b[0m\u001b[37m\u001b[0m \u001b[1m26s\u001b[0m 1s/step - loss: 6.8763e-04 - val_loss: 3.3439e-05\n",
      "Epoch 34/100\n",
      "\u001b[1m21/21\u001b[0m \u001b[32m━━━━━━━━━━━━━━━━━━━━\u001b[0m\u001b[37m\u001b[0m \u001b[1m26s\u001b[0m 1s/step - loss: 7.9985e-04 - val_loss: 2.7389e-06\n",
      "Epoch 35/100\n",
      "\u001b[1m21/21\u001b[0m \u001b[32m━━━━━━━━━━━━━━━━━━━━\u001b[0m\u001b[37m\u001b[0m \u001b[1m27s\u001b[0m 1s/step - loss: 5.5421e-04 - val_loss: 1.3684e-05\n",
      "Epoch 36/100\n",
      "\u001b[1m21/21\u001b[0m \u001b[32m━━━━━━━━━━━━━━━━━━━━\u001b[0m\u001b[37m\u001b[0m \u001b[1m27s\u001b[0m 1s/step - loss: 5.6322e-04 - val_loss: 9.8366e-06\n",
      "Epoch 37/100\n",
      "\u001b[1m21/21\u001b[0m \u001b[32m━━━━━━━━━━━━━━━━━━━━\u001b[0m\u001b[37m\u001b[0m \u001b[1m26s\u001b[0m 1s/step - loss: 5.9006e-04 - val_loss: 2.2845e-05\n",
      "Epoch 38/100\n",
      "\u001b[1m21/21\u001b[0m \u001b[32m━━━━━━━━━━━━━━━━━━━━\u001b[0m\u001b[37m\u001b[0m \u001b[1m26s\u001b[0m 1s/step - loss: 6.7799e-04 - val_loss: 1.7462e-05\n",
      "Epoch 39/100\n",
      "\u001b[1m21/21\u001b[0m \u001b[32m━━━━━━━━━━━━━━━━━━━━\u001b[0m\u001b[37m\u001b[0m \u001b[1m26s\u001b[0m 1s/step - loss: 4.7321e-04 - val_loss: 3.0093e-05\n",
      "Epoch 40/100\n",
      "\u001b[1m21/21\u001b[0m \u001b[32m━━━━━━━━━━━━━━━━━━━━\u001b[0m\u001b[37m\u001b[0m \u001b[1m28s\u001b[0m 1s/step - loss: 6.9547e-04 - val_loss: 2.3728e-05\n",
      "Epoch 41/100\n",
      "\u001b[1m21/21\u001b[0m \u001b[32m━━━━━━━━━━━━━━━━━━━━\u001b[0m\u001b[37m\u001b[0m \u001b[1m26s\u001b[0m 1s/step - loss: 5.5245e-04 - val_loss: 8.1348e-06\n",
      "Epoch 42/100\n",
      "\u001b[1m21/21\u001b[0m \u001b[32m━━━━━━━━━━━━━━━━━━━━\u001b[0m\u001b[37m\u001b[0m \u001b[1m27s\u001b[0m 1s/step - loss: 4.9683e-04 - val_loss: 6.2240e-06\n",
      "Epoch 43/100\n",
      "\u001b[1m21/21\u001b[0m \u001b[32m━━━━━━━━━━━━━━━━━━━━\u001b[0m\u001b[37m\u001b[0m \u001b[1m26s\u001b[0m 1s/step - loss: 5.1972e-04 - val_loss: 2.2507e-06\n",
      "Epoch 44/100\n",
      "\u001b[1m21/21\u001b[0m \u001b[32m━━━━━━━━━━━━━━━━━━━━\u001b[0m\u001b[37m\u001b[0m \u001b[1m27s\u001b[0m 1s/step - loss: 6.3618e-04 - val_loss: 4.5558e-06\n",
      "Epoch 45/100\n",
      "\u001b[1m21/21\u001b[0m \u001b[32m━━━━━━━━━━━━━━━━━━━━\u001b[0m\u001b[37m\u001b[0m \u001b[1m26s\u001b[0m 1s/step - loss: 4.8423e-04 - val_loss: 2.2823e-06\n",
      "Epoch 46/100\n",
      "\u001b[1m21/21\u001b[0m \u001b[32m━━━━━━━━━━━━━━━━━━━━\u001b[0m\u001b[37m\u001b[0m \u001b[1m26s\u001b[0m 1s/step - loss: 4.7458e-04 - val_loss: 4.8491e-06\n",
      "Epoch 47/100\n",
      "\u001b[1m21/21\u001b[0m \u001b[32m━━━━━━━━━━━━━━━━━━━━\u001b[0m\u001b[37m\u001b[0m \u001b[1m27s\u001b[0m 1s/step - loss: 4.3136e-04 - val_loss: 5.7221e-06\n",
      "Epoch 48/100\n",
      "\u001b[1m21/21\u001b[0m \u001b[32m━━━━━━━━━━━━━━━━━━━━\u001b[0m\u001b[37m\u001b[0m \u001b[1m27s\u001b[0m 1s/step - loss: 4.1988e-04 - val_loss: 2.9858e-06\n",
      "Epoch 49/100\n",
      "\u001b[1m21/21\u001b[0m \u001b[32m━━━━━━━━━━━━━━━━━━━━\u001b[0m\u001b[37m\u001b[0m \u001b[1m26s\u001b[0m 1s/step - loss: 6.6440e-04 - val_loss: 2.4180e-06\n",
      "Epoch 50/100\n",
      "\u001b[1m21/21\u001b[0m \u001b[32m━━━━━━━━━━━━━━━━━━━━\u001b[0m\u001b[37m\u001b[0m \u001b[1m27s\u001b[0m 1s/step - loss: 6.3066e-04 - val_loss: 2.1464e-06\n",
      "Epoch 51/100\n",
      "\u001b[1m21/21\u001b[0m \u001b[32m━━━━━━━━━━━━━━━━━━━━\u001b[0m\u001b[37m\u001b[0m \u001b[1m26s\u001b[0m 1s/step - loss: 4.0395e-04 - val_loss: 2.7643e-06\n",
      "Epoch 52/100\n",
      "\u001b[1m21/21\u001b[0m \u001b[32m━━━━━━━━━━━━━━━━━━━━\u001b[0m\u001b[37m\u001b[0m \u001b[1m26s\u001b[0m 1s/step - loss: 4.0444e-04 - val_loss: 4.5982e-06\n",
      "Epoch 53/100\n",
      "\u001b[1m21/21\u001b[0m \u001b[32m━━━━━━━━━━━━━━━━━━━━\u001b[0m\u001b[37m\u001b[0m \u001b[1m27s\u001b[0m 1s/step - loss: 4.0115e-04 - val_loss: 2.7205e-06\n",
      "Epoch 54/100\n",
      "\u001b[1m21/21\u001b[0m \u001b[32m━━━━━━━━━━━━━━━━━━━━\u001b[0m\u001b[37m\u001b[0m \u001b[1m27s\u001b[0m 1s/step - loss: 4.3445e-04 - val_loss: 2.2278e-06\n",
      "Epoch 55/100\n",
      "\u001b[1m21/21\u001b[0m \u001b[32m━━━━━━━━━━━━━━━━━━━━\u001b[0m\u001b[37m\u001b[0m \u001b[1m27s\u001b[0m 1s/step - loss: 3.5298e-04 - val_loss: 2.5664e-06\n",
      "Epoch 56/100\n",
      "\u001b[1m21/21\u001b[0m \u001b[32m━━━━━━━━━━━━━━━━━━━━\u001b[0m\u001b[37m\u001b[0m \u001b[1m27s\u001b[0m 1s/step - loss: 3.6742e-04 - val_loss: 5.4003e-06\n",
      "Epoch 57/100\n",
      "\u001b[1m21/21\u001b[0m \u001b[32m━━━━━━━━━━━━━━━━━━━━\u001b[0m\u001b[37m\u001b[0m \u001b[1m29s\u001b[0m 1s/step - loss: 6.1155e-04 - val_loss: 8.6933e-06\n",
      "Epoch 58/100\n",
      "\u001b[1m21/21\u001b[0m \u001b[32m━━━━━━━━━━━━━━━━━━━━\u001b[0m\u001b[37m\u001b[0m \u001b[1m27s\u001b[0m 1s/step - loss: 5.5334e-04 - val_loss: 4.6146e-06\n",
      "Epoch 59/100\n",
      "\u001b[1m21/21\u001b[0m \u001b[32m━━━━━━━━━━━━━━━━━━━━\u001b[0m\u001b[37m\u001b[0m \u001b[1m27s\u001b[0m 1s/step - loss: 3.4975e-04 - val_loss: 7.7059e-06\n",
      "Epoch 60/100\n",
      "\u001b[1m21/21\u001b[0m \u001b[32m━━━━━━━━━━━━━━━━━━━━\u001b[0m\u001b[37m\u001b[0m \u001b[1m26s\u001b[0m 1s/step - loss: 3.7237e-04 - val_loss: 2.1672e-06\n",
      "Epoch 61/100\n",
      "\u001b[1m21/21\u001b[0m \u001b[32m━━━━━━━━━━━━━━━━━━━━\u001b[0m\u001b[37m\u001b[0m \u001b[1m27s\u001b[0m 1s/step - loss: 3.7283e-04 - val_loss: 2.6073e-06\n",
      "Epoch 62/100\n",
      "\u001b[1m21/21\u001b[0m \u001b[32m━━━━━━━━━━━━━━━━━━━━\u001b[0m\u001b[37m\u001b[0m \u001b[1m27s\u001b[0m 1s/step - loss: 3.9729e-04 - val_loss: 2.2814e-06\n",
      "Epoch 63/100\n",
      "\u001b[1m21/21\u001b[0m \u001b[32m━━━━━━━━━━━━━━━━━━━━\u001b[0m\u001b[37m\u001b[0m \u001b[1m27s\u001b[0m 1s/step - loss: 3.5190e-04 - val_loss: 1.9918e-06\n",
      "Epoch 64/100\n",
      "\u001b[1m21/21\u001b[0m \u001b[32m━━━━━━━━━━━━━━━━━━━━\u001b[0m\u001b[37m\u001b[0m \u001b[1m26s\u001b[0m 1s/step - loss: 4.8422e-04 - val_loss: 2.1452e-06\n",
      "Epoch 65/100\n",
      "\u001b[1m21/21\u001b[0m \u001b[32m━━━━━━━━━━━━━━━━━━━━\u001b[0m\u001b[37m\u001b[0m \u001b[1m27s\u001b[0m 1s/step - loss: 3.4538e-04 - val_loss: 1.0828e-05\n",
      "Epoch 66/100\n",
      "\u001b[1m21/21\u001b[0m \u001b[32m━━━━━━━━━━━━━━━━━━━━\u001b[0m\u001b[37m\u001b[0m \u001b[1m26s\u001b[0m 1s/step - loss: 4.3426e-04 - val_loss: 2.8271e-06\n",
      "Epoch 67/100\n",
      "\u001b[1m21/21\u001b[0m \u001b[32m━━━━━━━━━━━━━━━━━━━━\u001b[0m\u001b[37m\u001b[0m \u001b[1m27s\u001b[0m 1s/step - loss: 3.4055e-04 - val_loss: 1.9427e-06\n",
      "Epoch 68/100\n",
      "\u001b[1m21/21\u001b[0m \u001b[32m━━━━━━━━━━━━━━━━━━━━\u001b[0m\u001b[37m\u001b[0m \u001b[1m28s\u001b[0m 1s/step - loss: 4.7011e-04 - val_loss: 4.6782e-06\n",
      "Epoch 69/100\n",
      "\u001b[1m21/21\u001b[0m \u001b[32m━━━━━━━━━━━━━━━━━━━━\u001b[0m\u001b[37m\u001b[0m \u001b[1m27s\u001b[0m 1s/step - loss: 4.7679e-04 - val_loss: 1.7046e-05\n",
      "Epoch 70/100\n",
      "\u001b[1m21/21\u001b[0m \u001b[32m━━━━━━━━━━━━━━━━━━━━\u001b[0m\u001b[37m\u001b[0m \u001b[1m27s\u001b[0m 1s/step - loss: 3.2780e-04 - val_loss: 1.8354e-06\n",
      "Epoch 71/100\n",
      "\u001b[1m21/21\u001b[0m \u001b[32m━━━━━━━━━━━━━━━━━━━━\u001b[0m\u001b[37m\u001b[0m \u001b[1m27s\u001b[0m 1s/step - loss: 4.2541e-04 - val_loss: 1.8507e-06\n",
      "Epoch 72/100\n",
      "\u001b[1m21/21\u001b[0m \u001b[32m━━━━━━━━━━━━━━━━━━━━\u001b[0m\u001b[37m\u001b[0m \u001b[1m27s\u001b[0m 1s/step - loss: 3.4859e-04 - val_loss: 2.4944e-06\n",
      "Epoch 73/100\n",
      "\u001b[1m21/21\u001b[0m \u001b[32m━━━━━━━━━━━━━━━━━━━━\u001b[0m\u001b[37m\u001b[0m \u001b[1m27s\u001b[0m 1s/step - loss: 3.7238e-04 - val_loss: 4.7517e-06\n",
      "Epoch 74/100\n",
      "\u001b[1m21/21\u001b[0m \u001b[32m━━━━━━━━━━━━━━━━━━━━\u001b[0m\u001b[37m\u001b[0m \u001b[1m27s\u001b[0m 1s/step - loss: 4.6485e-04 - val_loss: 3.3866e-06\n",
      "Epoch 75/100\n",
      "\u001b[1m21/21\u001b[0m \u001b[32m━━━━━━━━━━━━━━━━━━━━\u001b[0m\u001b[37m\u001b[0m \u001b[1m27s\u001b[0m 1s/step - loss: 3.2689e-04 - val_loss: 2.0482e-06\n",
      "Epoch 76/100\n",
      "\u001b[1m21/21\u001b[0m \u001b[32m━━━━━━━━━━━━━━━━━━━━\u001b[0m\u001b[37m\u001b[0m \u001b[1m27s\u001b[0m 1s/step - loss: 3.6703e-04 - val_loss: 3.3969e-06\n",
      "Epoch 77/100\n",
      "\u001b[1m21/21\u001b[0m \u001b[32m━━━━━━━━━━━━━━━━━━━━\u001b[0m\u001b[37m\u001b[0m \u001b[1m28s\u001b[0m 1s/step - loss: 4.0664e-04 - val_loss: 3.9685e-06\n",
      "Epoch 78/100\n",
      "\u001b[1m21/21\u001b[0m \u001b[32m━━━━━━━━━━━━━━━━━━━━\u001b[0m\u001b[37m\u001b[0m \u001b[1m28s\u001b[0m 1s/step - loss: 3.2940e-04 - val_loss: 4.0195e-06\n",
      "Epoch 79/100\n",
      "\u001b[1m21/21\u001b[0m \u001b[32m━━━━━━━━━━━━━━━━━━━━\u001b[0m\u001b[37m\u001b[0m \u001b[1m29s\u001b[0m 1s/step - loss: 4.4257e-04 - val_loss: 2.7617e-05\n",
      "Epoch 80/100\n",
      "\u001b[1m21/21\u001b[0m \u001b[32m━━━━━━━━━━━━━━━━━━━━\u001b[0m\u001b[37m\u001b[0m \u001b[1m29s\u001b[0m 1s/step - loss: 3.4998e-04 - val_loss: 4.6790e-06\n",
      "Epoch 81/100\n",
      "\u001b[1m21/21\u001b[0m \u001b[32m━━━━━━━━━━━━━━━━━━━━\u001b[0m\u001b[37m\u001b[0m \u001b[1m31s\u001b[0m 2s/step - loss: 3.1410e-04 - val_loss: 1.7835e-06\n",
      "Epoch 82/100\n",
      "\u001b[1m21/21\u001b[0m \u001b[32m━━━━━━━━━━━━━━━━━━━━\u001b[0m\u001b[37m\u001b[0m \u001b[1m29s\u001b[0m 1s/step - loss: 3.0894e-04 - val_loss: 1.9251e-06\n",
      "Epoch 83/100\n",
      "\u001b[1m21/21\u001b[0m \u001b[32m━━━━━━━━━━━━━━━━━━━━\u001b[0m\u001b[37m\u001b[0m \u001b[1m26s\u001b[0m 1s/step - loss: 3.7823e-04 - val_loss: 5.5964e-06\n",
      "Epoch 84/100\n",
      "\u001b[1m21/21\u001b[0m \u001b[32m━━━━━━━━━━━━━━━━━━━━\u001b[0m\u001b[37m\u001b[0m \u001b[1m26s\u001b[0m 1s/step - loss: 3.8986e-04 - val_loss: 1.1787e-05\n",
      "Epoch 85/100\n",
      "\u001b[1m21/21\u001b[0m \u001b[32m━━━━━━━━━━━━━━━━━━━━\u001b[0m\u001b[37m\u001b[0m \u001b[1m27s\u001b[0m 1s/step - loss: 3.3484e-04 - val_loss: 3.9250e-06\n",
      "Epoch 86/100\n",
      "\u001b[1m21/21\u001b[0m \u001b[32m━━━━━━━━━━━━━━━━━━━━\u001b[0m\u001b[37m\u001b[0m \u001b[1m26s\u001b[0m 1s/step - loss: 4.4775e-04 - val_loss: 7.1901e-06\n",
      "Epoch 87/100\n",
      "\u001b[1m21/21\u001b[0m \u001b[32m━━━━━━━━━━━━━━━━━━━━\u001b[0m\u001b[37m\u001b[0m \u001b[1m26s\u001b[0m 1s/step - loss: 3.4423e-04 - val_loss: 3.6117e-06\n",
      "Epoch 88/100\n",
      "\u001b[1m21/21\u001b[0m \u001b[32m━━━━━━━━━━━━━━━━━━━━\u001b[0m\u001b[37m\u001b[0m \u001b[1m27s\u001b[0m 1s/step - loss: 3.6613e-04 - val_loss: 1.8210e-06\n",
      "Epoch 89/100\n",
      "\u001b[1m21/21\u001b[0m \u001b[32m━━━━━━━━━━━━━━━━━━━━\u001b[0m\u001b[37m\u001b[0m \u001b[1m27s\u001b[0m 1s/step - loss: 3.2139e-04 - val_loss: 1.8996e-06\n",
      "Epoch 90/100\n",
      "\u001b[1m21/21\u001b[0m \u001b[32m━━━━━━━━━━━━━━━━━━━━\u001b[0m\u001b[37m\u001b[0m \u001b[1m28s\u001b[0m 1s/step - loss: 3.8322e-04 - val_loss: 2.3734e-06\n",
      "Epoch 91/100\n",
      "\u001b[1m21/21\u001b[0m \u001b[32m━━━━━━━━━━━━━━━━━━━━\u001b[0m\u001b[37m\u001b[0m \u001b[1m27s\u001b[0m 1s/step - loss: 3.5007e-04 - val_loss: 2.1457e-06\n",
      "Epoch 92/100\n",
      "\u001b[1m21/21\u001b[0m \u001b[32m━━━━━━━━━━━━━━━━━━━━\u001b[0m\u001b[37m\u001b[0m \u001b[1m29s\u001b[0m 1s/step - loss: 3.4111e-04 - val_loss: 7.9359e-06\n",
      "Epoch 93/100\n",
      "\u001b[1m21/21\u001b[0m \u001b[32m━━━━━━━━━━━━━━━━━━━━\u001b[0m\u001b[37m\u001b[0m \u001b[1m27s\u001b[0m 1s/step - loss: 4.7426e-04 - val_loss: 1.0212e-05\n",
      "Epoch 94/100\n",
      "\u001b[1m21/21\u001b[0m \u001b[32m━━━━━━━━━━━━━━━━━━━━\u001b[0m\u001b[37m\u001b[0m \u001b[1m26s\u001b[0m 1s/step - loss: 3.4288e-04 - val_loss: 4.0614e-06\n",
      "Epoch 95/100\n",
      "\u001b[1m21/21\u001b[0m \u001b[32m━━━━━━━━━━━━━━━━━━━━\u001b[0m\u001b[37m\u001b[0m \u001b[1m28s\u001b[0m 1s/step - loss: 3.5292e-04 - val_loss: 6.2475e-06\n",
      "Epoch 96/100\n",
      "\u001b[1m21/21\u001b[0m \u001b[32m━━━━━━━━━━━━━━━━━━━━\u001b[0m\u001b[37m\u001b[0m \u001b[1m27s\u001b[0m 1s/step - loss: 4.5482e-04 - val_loss: 2.3082e-06\n",
      "Epoch 97/100\n",
      "\u001b[1m21/21\u001b[0m \u001b[32m━━━━━━━━━━━━━━━━━━━━\u001b[0m\u001b[37m\u001b[0m \u001b[1m26s\u001b[0m 1s/step - loss: 3.8394e-04 - val_loss: 1.5404e-05\n",
      "Epoch 98/100\n",
      "\u001b[1m21/21\u001b[0m \u001b[32m━━━━━━━━━━━━━━━━━━━━\u001b[0m\u001b[37m\u001b[0m \u001b[1m26s\u001b[0m 1s/step - loss: 3.4308e-04 - val_loss: 2.2560e-06\n",
      "Epoch 99/100\n",
      "\u001b[1m21/21\u001b[0m \u001b[32m━━━━━━━━━━━━━━━━━━━━\u001b[0m\u001b[37m\u001b[0m \u001b[1m26s\u001b[0m 1s/step - loss: 3.5377e-04 - val_loss: 1.6676e-06\n",
      "Epoch 100/100\n",
      "\u001b[1m21/21\u001b[0m \u001b[32m━━━━━━━━━━━━━━━━━━━━\u001b[0m\u001b[37m\u001b[0m \u001b[1m26s\u001b[0m 1s/step - loss: 3.3347e-04 - val_loss: 1.8884e-06\n"
     ]
    },
    {
     "data": {
      "text/plain": [
       "<keras.src.callbacks.history.History at 0x1a50b681c10>"
      ]
     },
     "execution_count": 100,
     "metadata": {},
     "output_type": "execute_result"
    }
   ],
   "source": [
    "model.fit(X_train,y_train,validation_data=(X_test,ytest),epochs=100,batch_size=64,verbose=1)"
   ]
  },
  {
   "cell_type": "code",
   "execution_count": 103,
   "metadata": {},
   "outputs": [],
   "source": [
    "import tensorflow as tf"
   ]
  },
  {
   "cell_type": "code",
   "execution_count": 104,
   "metadata": {},
   "outputs": [
    {
     "data": {
      "text/plain": [
       "'2.16.0-rc0'"
      ]
     },
     "execution_count": 104,
     "metadata": {},
     "output_type": "execute_result"
    }
   ],
   "source": [
    "tf.__version__"
   ]
  },
  {
   "cell_type": "code",
   "execution_count": 105,
   "metadata": {},
   "outputs": [
    {
     "name": "stdout",
     "output_type": "stream",
     "text": [
      "\u001b[1m42/42\u001b[0m \u001b[32m━━━━━━━━━━━━━━━━━━━━\u001b[0m\u001b[37m\u001b[0m \u001b[1m7s\u001b[0m 153ms/step\n",
      "\u001b[1m19/19\u001b[0m \u001b[32m━━━━━━━━━━━━━━━━━━━━\u001b[0m\u001b[37m\u001b[0m \u001b[1m3s\u001b[0m 145ms/step\n"
     ]
    }
   ],
   "source": [
    "### Lets Do the prediction and check performance metrics\n",
    "train_predict=model.predict(X_train)\n",
    "test_predict=model.predict(X_test)"
   ]
  },
  {
   "cell_type": "code",
   "execution_count": 106,
   "metadata": {},
   "outputs": [],
   "source": [
    "##Transformback to original form\n",
    "train_predict=scaler.inverse_transform(train_predict)\n",
    "test_predict=scaler.inverse_transform(test_predict)"
   ]
  },
  {
   "cell_type": "code",
   "execution_count": 115,
   "metadata": {},
   "outputs": [
    {
     "data": {
      "text/plain": [
       "580"
      ]
     },
     "execution_count": 115,
     "metadata": {},
     "output_type": "execute_result"
    }
   ],
   "source": [
    "len(train_predict)\n",
    "len(test_predict)"
   ]
  },
  {
   "cell_type": "code",
   "execution_count": 234,
   "metadata": {},
   "outputs": [
    {
     "name": "stdout",
     "output_type": "stream",
     "text": [
      "Mean Squared Error: 231.21090866115873\n",
      "Root Mean Squared Error: 15.205620956118784\n",
      "Mean Absolute Error: 15.120329215150402\n"
     ]
    }
   ],
   "source": [
    "from sklearn.metrics import mean_squared_error, mean_absolute_error\n",
    "import numpy as np\n",
    "mse = mean_squared_error(ytest, test_predict)\n",
    "rmse = np.sqrt(mse)\n",
    "mae = mean_absolute_error(ytest, test_predict)\n",
    "\n",
    "print(f\"Mean Squared Error: {mse}\")\n",
    "print(f\"Root Mean Squared Error: {rmse}\")\n",
    "print(f\"Mean Absolute Error: {mae}\")"
   ]
  },
  {
   "cell_type": "code",
   "execution_count": 235,
   "metadata": {},
   "outputs": [
    {
     "name": "stderr",
     "output_type": "stream",
     "text": [
      "WARNING:absl:You are saving your model as an HDF5 file via `model.save()` or `keras.saving.save_model(model)`. This file format is considered legacy. We recommend using instead the native Keras format, e.g. `model.save('my_model.keras')` or `keras.saving.save_model(model, 'my_model.keras')`. \n"
     ]
    }
   ],
   "source": [
    "# Save the model to an HDF5 file\n",
    "model.save('stock_prediction_model.keras')"
   ]
  },
  {
   "cell_type": "code",
   "execution_count": 107,
   "metadata": {},
   "outputs": [
    {
     "data": {
      "text/plain": [
       "178.739209074472"
      ]
     },
     "execution_count": 107,
     "metadata": {},
     "output_type": "execute_result"
    }
   ],
   "source": [
    "### Calculate RMSE performance metrics\n",
    "import math\n",
    "from sklearn.metrics import mean_squared_error\n",
    "math.sqrt(mean_squared_error(y_train,train_predict))"
   ]
  },
  {
   "cell_type": "code",
   "execution_count": 108,
   "metadata": {},
   "outputs": [
    {
     "data": {
      "text/plain": [
       "15.205620956118784"
      ]
     },
     "execution_count": 108,
     "metadata": {},
     "output_type": "execute_result"
    }
   ],
   "source": [
    "### Test Data RMSE\n",
    "math.sqrt(mean_squared_error(ytest,test_predict))"
   ]
  },
  {
   "cell_type": "code",
   "execution_count": 126,
   "metadata": {},
   "outputs": [
    {
     "data": {
      "image/png": "[encoded data removed]",
      "text/plain": [
       "<Figure size 640x480 with 1 Axes>"
      ]
     },
     "metadata": {},
     "output_type": "display_data"
    }
   ],
   "source": [
    "### Plotting \n",
    "# shift train predictions for plotting\n",
    "look_back=150\n",
    "trainPredictPlot = numpy.empty_like(df1)\n",
    "trainPredictPlot[:, :] = np.nan\n",
    "trainPredictPlot[look_back+150:len(train_predict)+look_back+150, :] = train_predict\n",
    "# shift test predictions for plotting\n",
    "testPredictPlot = numpy.empty_like(df1)\n",
    "testPredictPlot[:, :] = numpy.nan\n",
    "testPredictPlot[len(train_predict)+(look_back*4)+1:len(df1)-1, :] = test_predict\n",
    "# plot baseline and predictions\n",
    "plt.plot(scaler.inverse_transform(df1))\n",
    "plt.plot(trainPredictPlot)\n",
    "plt.plot(testPredictPlot)\n",
    "plt.show()"
   ]
  },
  {
   "cell_type": "code",
   "execution_count": 127,
   "metadata": {},
   "outputs": [
    {
     "data": {
      "text/plain": [
       "881"
      ]
     },
     "execution_count": 127,
     "metadata": {},
     "output_type": "execute_result"
    }
   ],
   "source": [
    "len(test_data)"
   ]
  },
  {
   "cell_type": "code",
   "execution_count": null,
   "metadata": {},
   "outputs": [],
   "source": []
  },
  {
   "cell_type": "code",
   "execution_count": 223,
   "metadata": {},
   "outputs": [
    {
     "data": {
      "text/plain": [
       "(1, 150)"
      ]
     },
     "execution_count": 223,
     "metadata": {},
     "output_type": "execute_result"
    }
   ],
   "source": [
    "x_input=test_data[731:].reshape(1,-1)\n",
    "x_input.shape\n"
   ]
  },
  {
   "cell_type": "code",
   "execution_count": null,
   "metadata": {},
   "outputs": [],
   "source": []
  },
  {
   "cell_type": "code",
   "execution_count": null,
   "metadata": {},
   "outputs": [],
   "source": []
  },
  {
   "cell_type": "code",
   "execution_count": 224,
   "metadata": {},
   "outputs": [],
   "source": [
    "temp_input=list(x_input)\n",
    "temp_input=temp_input[0].tolist()"
   ]
  },
  {
   "cell_type": "code",
   "execution_count": 225,
   "metadata": {},
   "outputs": [
    {
     "data": {
      "text/plain": [
       "[0.009317618733641033,\n",
       " 0.00905937181562069,\n",
       " 0.008654768327039503,\n",
       " 0.009497442506343778,\n",
       " 0.008501668365002293,\n",
       " 0.00866326000519491,\n",
       " 0.007494405482627028,\n",
       " 0.007892265579731859,\n",
       " 0.008336829906691445,\n",
       " 0.007767387959799397,\n",
       " 0.007860546664269021,\n",
       " 0.008360057143998883,\n",
       " 0.009483955723391075,\n",
       " 0.00978466103218845,\n",
       " 0.009305880237367382,\n",
       " 0.008933744929968627,\n",
       " 0.009935263441827009,\n",
       " 0.010576385142560287,\n",
       " 0.010005194908989188,\n",
       " 0.010063387879877723,\n",
       " 0.010600361645587326,\n",
       " 0.01222801654378709,\n",
       " 0.011328148414553738,\n",
       " 0.010121830606006108,\n",
       " 0.010103348718256109,\n",
       " 0.010006943195668246,\n",
       " 0.009858588583188475,\n",
       " 0.011510469739655135,\n",
       " 0.01209140042758097,\n",
       " 0.012289706088033727,\n",
       " 0.012269725668844534,\n",
       " 0.012874133349317664,\n",
       " 0.01246778157405742,\n",
       " 0.012436062658594576,\n",
       " 0.011200773242222618,\n",
       " 0.00997847109832364,\n",
       " 0.010244959939259526,\n",
       " 0.00927416132190453,\n",
       " 0.010374832663989291,\n",
       " 0.01046973965513796,\n",
       " 0.009593848028931647,\n",
       " 0.00964879418170193,\n",
       " 0.008808118044316565,\n",
       " 0.00803537533217447,\n",
       " 0.008225189314471814,\n",
       " 0.00802538512257987,\n",
       " 0.00816200123878599,\n",
       " 0.010086864872425026,\n",
       " 0.009747197746208715,\n",
       " 0.010487971787648102,\n",
       " 0.011146576355171928,\n",
       " 0.011202271773661811,\n",
       " 0.011257217926432094,\n",
       " 0.011059162021219208,\n",
       " 0.01259440748066894,\n",
       " 0.013110401806229893,\n",
       " 0.013080431177446106,\n",
       " 0.013659863333932747,\n",
       " 0.014011268956422709,\n",
       " 0.013085426282243396,\n",
       " 0.012870636775959555,\n",
       " 0.013142120721692737,\n",
       " 0.012590910907310838,\n",
       " 0.012419578812763492,\n",
       " 0.010348108853323743,\n",
       " 0.009014415872445006,\n",
       " 0.010051899138843936,\n",
       " 0.010544666227097443,\n",
       " 0.010857609542648205,\n",
       " 0.011017452896161763,\n",
       " 0.012191302523526942,\n",
       " 0.011770215189114665,\n",
       " 0.013326939599192792,\n",
       " 0.014087943815061236,\n",
       " 0.014257777378169394,\n",
       " 0.014612429818777594,\n",
       " 0.01464739555235869,\n",
       " 0.016791794041839,\n",
       " 0.01744465423884593,\n",
       " 0.017386211512717537,\n",
       " 0.01715818497872085,\n",
       " 0.016502077963595676,\n",
       " 0.01748961018202162,\n",
       " 0.017328018541829002,\n",
       " 0.018986393334532153,\n",
       " 0.01836700033966712,\n",
       " 0.019149483506163956,\n",
       " 0.01798737237507243,\n",
       " 0.017554546544386502,\n",
       " 0.017884223461008212,\n",
       " 0.016360716497832117,\n",
       " 0.016072498951027994,\n",
       " 0.016242332514136145,\n",
       " 0.01453575496013906,\n",
       " 0.015861206018102255,\n",
       " 0.01647060880337269,\n",
       " 0.016322254190892917,\n",
       " 0.015816250074926572,\n",
       " 0.01572284161521709,\n",
       " 0.016500579432156482,\n",
       " 0.012987272472976482,\n",
       " 0.015246808128034525,\n",
       " 0.015255050050950066,\n",
       " 0.014557483666007311,\n",
       " 0.015263291973865608,\n",
       " 0.014452586465264036,\n",
       " 0.013954574516973368,\n",
       " 0.013766508821355068,\n",
       " 0.014324212271973464,\n",
       " 0.013884643049811182,\n",
       " 0.013473545924993505,\n",
       " 0.015524785710004197,\n",
       " 0.01887150592419429,\n",
       " 0.01924938560210993,\n",
       " 0.019297838118643728,\n",
       " 0.019472666786549183,\n",
       " 0.018571799636356367,\n",
       " 0.01794066814521768,\n",
       " 0.01607924234250434,\n",
       " 0.016485594117764586,\n",
       " 0.016915173130332275,\n",
       " 0.017138204559531658,\n",
       " 0.017196397530420186,\n",
       " 0.018060550660352854,\n",
       " 0.01777258286878858,\n",
       " 0.017709394793102764,\n",
       " 0.019256128993586284,\n",
       " 0.020005394713181083,\n",
       " 0.01959904293792084,\n",
       " 0.019492647205738376,\n",
       " 0.018347019920477926,\n",
       " 0.02256613518751623,\n",
       " 0.022750954065016284,\n",
       " 0.022882575076425094,\n",
       " 0.022446252672381064,\n",
       " 0.0230506603528542,\n",
       " 0.02226493036823912,\n",
       " 0.023705019081300318,\n",
       " 0.02289756039081699,\n",
       " 0.023385332374273208,\n",
       " 0.020984435253451613,\n",
       " 0.02001213810465743,\n",
       " 0.019910487722032407,\n",
       " 0.019658984195488425,\n",
       " 0.01979385202501548,\n",
       " 0.018833293372494956,\n",
       " 0.018426941597234705,\n",
       " 0.01865496813123139,\n",
       " 0.018829796799136846,\n",
       " 0.0193592779076505]"
      ]
     },
     "execution_count": 225,
     "metadata": {},
     "output_type": "execute_result"
    }
   ],
   "source": [
    "temp_input"
   ]
  },
  {
   "cell_type": "code",
   "execution_count": 226,
   "metadata": {},
   "outputs": [
    {
     "name": "stdout",
     "output_type": "stream",
     "text": [
      "[0.01902878]\n",
      "151\n",
      "1 day input [0.00905937 0.00865477 0.00949744 0.00850167 0.00866326 0.00749441\n",
      " 0.00789227 0.00833683 0.00776739 0.00786055 0.00836006 0.00948396\n",
      " 0.00978466 0.00930588 0.00893374 0.00993526 0.01057639 0.01000519\n",
      " 0.01006339 0.01060036 0.01222802 0.01132815 0.01012183 0.01010335\n",
      " 0.01000694 0.00985859 0.01151047 0.0120914  0.01228971 0.01226973\n",
      " 0.01287413 0.01246778 0.01243606 0.01120077 0.00997847 0.01024496\n",
      " 0.00927416 0.01037483 0.01046974 0.00959385 0.00964879 0.00880812\n",
      " 0.00803538 0.00822519 0.00802539 0.008162   0.01008686 0.0097472\n",
      " 0.01048797 0.01114658 0.01120227 0.01125722 0.01105916 0.01259441\n",
      " 0.0131104  0.01308043 0.01365986 0.01401127 0.01308543 0.01287064\n",
      " 0.01314212 0.01259091 0.01241958 0.01034811 0.00901442 0.0100519\n",
      " 0.01054467 0.01085761 0.01101745 0.0121913  0.01177022 0.01332694\n",
      " 0.01408794 0.01425778 0.01461243 0.0146474  0.01679179 0.01744465\n",
      " 0.01738621 0.01715818 0.01650208 0.01748961 0.01732802 0.01898639\n",
      " 0.018367   0.01914948 0.01798737 0.01755455 0.01788422 0.01636072\n",
      " 0.0160725  0.01624233 0.01453575 0.01586121 0.01647061 0.01632225\n",
      " 0.01581625 0.01572284 0.01650058 0.01298727 0.01524681 0.01525505\n",
      " 0.01455748 0.01526329 0.01445259 0.01395457 0.01376651 0.01432421\n",
      " 0.01388464 0.01347355 0.01552479 0.01887151 0.01924939 0.01929784\n",
      " 0.01947267 0.0185718  0.01794067 0.01607924 0.01648559 0.01691517\n",
      " 0.0171382  0.0171964  0.01806055 0.01777258 0.01770939 0.01925613\n",
      " 0.02000539 0.01959904 0.01949265 0.01834702 0.02256614 0.02275095\n",
      " 0.02288258 0.02244625 0.02305066 0.02226493 0.02370502 0.02289756\n",
      " 0.02338533 0.02098444 0.02001214 0.01991049 0.01965898 0.01979385\n",
      " 0.01883329 0.01842694 0.01865497 0.0188298  0.01935928 0.01902878]\n",
      "1 day output [[0.01915273]]\n",
      "2 day input [0.00865477 0.00949744 0.00850167 0.00866326 0.00749441 0.00789227\n",
      " 0.00833683 0.00776739 0.00786055 0.00836006 0.00948396 0.00978466\n",
      " 0.00930588 0.00893374 0.00993526 0.01057639 0.01000519 0.01006339\n",
      " 0.01060036 0.01222802 0.01132815 0.01012183 0.01010335 0.01000694\n",
      " 0.00985859 0.01151047 0.0120914  0.01228971 0.01226973 0.01287413\n",
      " 0.01246778 0.01243606 0.01120077 0.00997847 0.01024496 0.00927416\n",
      " 0.01037483 0.01046974 0.00959385 0.00964879 0.00880812 0.00803538\n",
      " 0.00822519 0.00802539 0.008162   0.01008686 0.0097472  0.01048797\n",
      " 0.01114658 0.01120227 0.01125722 0.01105916 0.01259441 0.0131104\n",
      " 0.01308043 0.01365986 0.01401127 0.01308543 0.01287064 0.01314212\n",
      " 0.01259091 0.01241958 0.01034811 0.00901442 0.0100519  0.01054467\n",
      " 0.01085761 0.01101745 0.0121913  0.01177022 0.01332694 0.01408794\n",
      " 0.01425778 0.01461243 0.0146474  0.01679179 0.01744465 0.01738621\n",
      " 0.01715818 0.01650208 0.01748961 0.01732802 0.01898639 0.018367\n",
      " 0.01914948 0.01798737 0.01755455 0.01788422 0.01636072 0.0160725\n",
      " 0.01624233 0.01453575 0.01586121 0.01647061 0.01632225 0.01581625\n",
      " 0.01572284 0.01650058 0.01298727 0.01524681 0.01525505 0.01455748\n",
      " 0.01526329 0.01445259 0.01395457 0.01376651 0.01432421 0.01388464\n",
      " 0.01347355 0.01552479 0.01887151 0.01924939 0.01929784 0.01947267\n",
      " 0.0185718  0.01794067 0.01607924 0.01648559 0.01691517 0.0171382\n",
      " 0.0171964  0.01806055 0.01777258 0.01770939 0.01925613 0.02000539\n",
      " 0.01959904 0.01949265 0.01834702 0.02256614 0.02275095 0.02288258\n",
      " 0.02244625 0.02305066 0.02226493 0.02370502 0.02289756 0.02338533\n",
      " 0.02098444 0.02001214 0.01991049 0.01965898 0.01979385 0.01883329\n",
      " 0.01842694 0.01865497 0.0188298  0.01935928 0.01902878 0.01915273]\n",
      "2 day output [[0.0192671]]\n",
      "3 day input [0.00949744 0.00850167 0.00866326 0.00749441 0.00789227 0.00833683\n",
      " 0.00776739 0.00786055 0.00836006 0.00948396 0.00978466 0.00930588\n",
      " 0.00893374 0.00993526 0.01057639 0.01000519 0.01006339 0.01060036\n",
      " 0.01222802 0.01132815 0.01012183 0.01010335 0.01000694 0.00985859\n",
      " 0.01151047 0.0120914  0.01228971 0.01226973 0.01287413 0.01246778\n",
      " 0.01243606 0.01120077 0.00997847 0.01024496 0.00927416 0.01037483\n",
      " 0.01046974 0.00959385 0.00964879 0.00880812 0.00803538 0.00822519\n",
      " 0.00802539 0.008162   0.01008686 0.0097472  0.01048797 0.01114658\n",
      " 0.01120227 0.01125722 0.01105916 0.01259441 0.0131104  0.01308043\n",
      " 0.01365986 0.01401127 0.01308543 0.01287064 0.01314212 0.01259091\n",
      " 0.01241958 0.01034811 0.00901442 0.0100519  0.01054467 0.01085761\n",
      " 0.01101745 0.0121913  0.01177022 0.01332694 0.01408794 0.01425778\n",
      " 0.01461243 0.0146474  0.01679179 0.01744465 0.01738621 0.01715818\n",
      " 0.01650208 0.01748961 0.01732802 0.01898639 0.018367   0.01914948\n",
      " 0.01798737 0.01755455 0.01788422 0.01636072 0.0160725  0.01624233\n",
      " 0.01453575 0.01586121 0.01647061 0.01632225 0.01581625 0.01572284\n",
      " 0.01650058 0.01298727 0.01524681 0.01525505 0.01455748 0.01526329\n",
      " 0.01445259 0.01395457 0.01376651 0.01432421 0.01388464 0.01347355\n",
      " 0.01552479 0.01887151 0.01924939 0.01929784 0.01947267 0.0185718\n",
      " 0.01794067 0.01607924 0.01648559 0.01691517 0.0171382  0.0171964\n",
      " 0.01806055 0.01777258 0.01770939 0.01925613 0.02000539 0.01959904\n",
      " 0.01949265 0.01834702 0.02256614 0.02275095 0.02288258 0.02244625\n",
      " 0.02305066 0.02226493 0.02370502 0.02289756 0.02338533 0.02098444\n",
      " 0.02001214 0.01991049 0.01965898 0.01979385 0.01883329 0.01842694\n",
      " 0.01865497 0.0188298  0.01935928 0.01902878 0.01915273 0.0192671 ]\n",
      "3 day output [[0.01937592]]\n",
      "4 day input [0.00850167 0.00866326 0.00749441 0.00789227 0.00833683 0.00776739\n",
      " 0.00786055 0.00836006 0.00948396 0.00978466 0.00930588 0.00893374\n",
      " 0.00993526 0.01057639 0.01000519 0.01006339 0.01060036 0.01222802\n",
      " 0.01132815 0.01012183 0.01010335 0.01000694 0.00985859 0.01151047\n",
      " 0.0120914  0.01228971 0.01226973 0.01287413 0.01246778 0.01243606\n",
      " 0.01120077 0.00997847 0.01024496 0.00927416 0.01037483 0.01046974\n",
      " 0.00959385 0.00964879 0.00880812 0.00803538 0.00822519 0.00802539\n",
      " 0.008162   0.01008686 0.0097472  0.01048797 0.01114658 0.01120227\n",
      " 0.01125722 0.01105916 0.01259441 0.0131104  0.01308043 0.01365986\n",
      " 0.01401127 0.01308543 0.01287064 0.01314212 0.01259091 0.01241958\n",
      " 0.01034811 0.00901442 0.0100519  0.01054467 0.01085761 0.01101745\n",
      " 0.0121913  0.01177022 0.01332694 0.01408794 0.01425778 0.01461243\n",
      " 0.0146474  0.01679179 0.01744465 0.01738621 0.01715818 0.01650208\n",
      " 0.01748961 0.01732802 0.01898639 0.018367   0.01914948 0.01798737\n",
      " 0.01755455 0.01788422 0.01636072 0.0160725  0.01624233 0.01453575\n",
      " 0.01586121 0.01647061 0.01632225 0.01581625 0.01572284 0.01650058\n",
      " 0.01298727 0.01524681 0.01525505 0.01455748 0.01526329 0.01445259\n",
      " 0.01395457 0.01376651 0.01432421 0.01388464 0.01347355 0.01552479\n",
      " 0.01887151 0.01924939 0.01929784 0.01947267 0.0185718  0.01794067\n",
      " 0.01607924 0.01648559 0.01691517 0.0171382  0.0171964  0.01806055\n",
      " 0.01777258 0.01770939 0.01925613 0.02000539 0.01959904 0.01949265\n",
      " 0.01834702 0.02256614 0.02275095 0.02288258 0.02244625 0.02305066\n",
      " 0.02226493 0.02370502 0.02289756 0.02338533 0.02098444 0.02001214\n",
      " 0.01991049 0.01965898 0.01979385 0.01883329 0.01842694 0.01865497\n",
      " 0.0188298  0.01935928 0.01902878 0.01915273 0.0192671  0.01937592]\n",
      "4 day output [[0.01948399]]\n",
      "5 day input [0.00866326 0.00749441 0.00789227 0.00833683 0.00776739 0.00786055\n",
      " 0.00836006 0.00948396 0.00978466 0.00930588 0.00893374 0.00993526\n",
      " 0.01057639 0.01000519 0.01006339 0.01060036 0.01222802 0.01132815\n",
      " 0.01012183 0.01010335 0.01000694 0.00985859 0.01151047 0.0120914\n",
      " 0.01228971 0.01226973 0.01287413 0.01246778 0.01243606 0.01120077\n",
      " 0.00997847 0.01024496 0.00927416 0.01037483 0.01046974 0.00959385\n",
      " 0.00964879 0.00880812 0.00803538 0.00822519 0.00802539 0.008162\n",
      " 0.01008686 0.0097472  0.01048797 0.01114658 0.01120227 0.01125722\n",
      " 0.01105916 0.01259441 0.0131104  0.01308043 0.01365986 0.01401127\n",
      " 0.01308543 0.01287064 0.01314212 0.01259091 0.01241958 0.01034811\n",
      " 0.00901442 0.0100519  0.01054467 0.01085761 0.01101745 0.0121913\n",
      " 0.01177022 0.01332694 0.01408794 0.01425778 0.01461243 0.0146474\n",
      " 0.01679179 0.01744465 0.01738621 0.01715818 0.01650208 0.01748961\n",
      " 0.01732802 0.01898639 0.018367   0.01914948 0.01798737 0.01755455\n",
      " 0.01788422 0.01636072 0.0160725  0.01624233 0.01453575 0.01586121\n",
      " 0.01647061 0.01632225 0.01581625 0.01572284 0.01650058 0.01298727\n",
      " 0.01524681 0.01525505 0.01455748 0.01526329 0.01445259 0.01395457\n",
      " 0.01376651 0.01432421 0.01388464 0.01347355 0.01552479 0.01887151\n",
      " 0.01924939 0.01929784 0.01947267 0.0185718  0.01794067 0.01607924\n",
      " 0.01648559 0.01691517 0.0171382  0.0171964  0.01806055 0.01777258\n",
      " 0.01770939 0.01925613 0.02000539 0.01959904 0.01949265 0.01834702\n",
      " 0.02256614 0.02275095 0.02288258 0.02244625 0.02305066 0.02226493\n",
      " 0.02370502 0.02289756 0.02338533 0.02098444 0.02001214 0.01991049\n",
      " 0.01965898 0.01979385 0.01883329 0.01842694 0.01865497 0.0188298\n",
      " 0.01935928 0.01902878 0.01915273 0.0192671  0.01937592 0.01948399]\n",
      "5 day output [[0.01959286]]\n",
      "6 day input [0.00749441 0.00789227 0.00833683 0.00776739 0.00786055 0.00836006\n",
      " 0.00948396 0.00978466 0.00930588 0.00893374 0.00993526 0.01057639\n",
      " 0.01000519 0.01006339 0.01060036 0.01222802 0.01132815 0.01012183\n",
      " 0.01010335 0.01000694 0.00985859 0.01151047 0.0120914  0.01228971\n",
      " 0.01226973 0.01287413 0.01246778 0.01243606 0.01120077 0.00997847\n",
      " 0.01024496 0.00927416 0.01037483 0.01046974 0.00959385 0.00964879\n",
      " 0.00880812 0.00803538 0.00822519 0.00802539 0.008162   0.01008686\n",
      " 0.0097472  0.01048797 0.01114658 0.01120227 0.01125722 0.01105916\n",
      " 0.01259441 0.0131104  0.01308043 0.01365986 0.01401127 0.01308543\n",
      " 0.01287064 0.01314212 0.01259091 0.01241958 0.01034811 0.00901442\n",
      " 0.0100519  0.01054467 0.01085761 0.01101745 0.0121913  0.01177022\n",
      " 0.01332694 0.01408794 0.01425778 0.01461243 0.0146474  0.01679179\n",
      " 0.01744465 0.01738621 0.01715818 0.01650208 0.01748961 0.01732802\n",
      " 0.01898639 0.018367   0.01914948 0.01798737 0.01755455 0.01788422\n",
      " 0.01636072 0.0160725  0.01624233 0.01453575 0.01586121 0.01647061\n",
      " 0.01632225 0.01581625 0.01572284 0.01650058 0.01298727 0.01524681\n",
      " 0.01525505 0.01455748 0.01526329 0.01445259 0.01395457 0.01376651\n",
      " 0.01432421 0.01388464 0.01347355 0.01552479 0.01887151 0.01924939\n",
      " 0.01929784 0.01947267 0.0185718  0.01794067 0.01607924 0.01648559\n",
      " 0.01691517 0.0171382  0.0171964  0.01806055 0.01777258 0.01770939\n",
      " 0.01925613 0.02000539 0.01959904 0.01949265 0.01834702 0.02256614\n",
      " 0.02275095 0.02288258 0.02244625 0.02305066 0.02226493 0.02370502\n",
      " 0.02289756 0.02338533 0.02098444 0.02001214 0.01991049 0.01965898\n",
      " 0.01979385 0.01883329 0.01842694 0.01865497 0.0188298  0.01935928\n",
      " 0.01902878 0.01915273 0.0192671  0.01937592 0.01948399 0.01959286]\n",
      "6 day output [[0.01970233]]\n",
      "7 day input [0.00789227 0.00833683 0.00776739 0.00786055 0.00836006 0.00948396\n",
      " 0.00978466 0.00930588 0.00893374 0.00993526 0.01057639 0.01000519\n",
      " 0.01006339 0.01060036 0.01222802 0.01132815 0.01012183 0.01010335\n",
      " 0.01000694 0.00985859 0.01151047 0.0120914  0.01228971 0.01226973\n",
      " 0.01287413 0.01246778 0.01243606 0.01120077 0.00997847 0.01024496\n",
      " 0.00927416 0.01037483 0.01046974 0.00959385 0.00964879 0.00880812\n",
      " 0.00803538 0.00822519 0.00802539 0.008162   0.01008686 0.0097472\n",
      " 0.01048797 0.01114658 0.01120227 0.01125722 0.01105916 0.01259441\n",
      " 0.0131104  0.01308043 0.01365986 0.01401127 0.01308543 0.01287064\n",
      " 0.01314212 0.01259091 0.01241958 0.01034811 0.00901442 0.0100519\n",
      " 0.01054467 0.01085761 0.01101745 0.0121913  0.01177022 0.01332694\n",
      " 0.01408794 0.01425778 0.01461243 0.0146474  0.01679179 0.01744465\n",
      " 0.01738621 0.01715818 0.01650208 0.01748961 0.01732802 0.01898639\n",
      " 0.018367   0.01914948 0.01798737 0.01755455 0.01788422 0.01636072\n",
      " 0.0160725  0.01624233 0.01453575 0.01586121 0.01647061 0.01632225\n",
      " 0.01581625 0.01572284 0.01650058 0.01298727 0.01524681 0.01525505\n",
      " 0.01455748 0.01526329 0.01445259 0.01395457 0.01376651 0.01432421\n",
      " 0.01388464 0.01347355 0.01552479 0.01887151 0.01924939 0.01929784\n",
      " 0.01947267 0.0185718  0.01794067 0.01607924 0.01648559 0.01691517\n",
      " 0.0171382  0.0171964  0.01806055 0.01777258 0.01770939 0.01925613\n",
      " 0.02000539 0.01959904 0.01949265 0.01834702 0.02256614 0.02275095\n",
      " 0.02288258 0.02244625 0.02305066 0.02226493 0.02370502 0.02289756\n",
      " 0.02338533 0.02098444 0.02001214 0.01991049 0.01965898 0.01979385\n",
      " 0.01883329 0.01842694 0.01865497 0.0188298  0.01935928 0.01902878\n",
      " 0.01915273 0.0192671  0.01937592 0.01948399 0.01959286 0.01970233]\n",
      "7 day output [[0.01981171]]\n",
      "8 day input [0.00833683 0.00776739 0.00786055 0.00836006 0.00948396 0.00978466\n",
      " 0.00930588 0.00893374 0.00993526 0.01057639 0.01000519 0.01006339\n",
      " 0.01060036 0.01222802 0.01132815 0.01012183 0.01010335 0.01000694\n",
      " 0.00985859 0.01151047 0.0120914  0.01228971 0.01226973 0.01287413\n",
      " 0.01246778 0.01243606 0.01120077 0.00997847 0.01024496 0.00927416\n",
      " 0.01037483 0.01046974 0.00959385 0.00964879 0.00880812 0.00803538\n",
      " 0.00822519 0.00802539 0.008162   0.01008686 0.0097472  0.01048797\n",
      " 0.01114658 0.01120227 0.01125722 0.01105916 0.01259441 0.0131104\n",
      " 0.01308043 0.01365986 0.01401127 0.01308543 0.01287064 0.01314212\n",
      " 0.01259091 0.01241958 0.01034811 0.00901442 0.0100519  0.01054467\n",
      " 0.01085761 0.01101745 0.0121913  0.01177022 0.01332694 0.01408794\n",
      " 0.01425778 0.01461243 0.0146474  0.01679179 0.01744465 0.01738621\n",
      " 0.01715818 0.01650208 0.01748961 0.01732802 0.01898639 0.018367\n",
      " 0.01914948 0.01798737 0.01755455 0.01788422 0.01636072 0.0160725\n",
      " 0.01624233 0.01453575 0.01586121 0.01647061 0.01632225 0.01581625\n",
      " 0.01572284 0.01650058 0.01298727 0.01524681 0.01525505 0.01455748\n",
      " 0.01526329 0.01445259 0.01395457 0.01376651 0.01432421 0.01388464\n",
      " 0.01347355 0.01552479 0.01887151 0.01924939 0.01929784 0.01947267\n",
      " 0.0185718  0.01794067 0.01607924 0.01648559 0.01691517 0.0171382\n",
      " 0.0171964  0.01806055 0.01777258 0.01770939 0.01925613 0.02000539\n",
      " 0.01959904 0.01949265 0.01834702 0.02256614 0.02275095 0.02288258\n",
      " 0.02244625 0.02305066 0.02226493 0.02370502 0.02289756 0.02338533\n",
      " 0.02098444 0.02001214 0.01991049 0.01965898 0.01979385 0.01883329\n",
      " 0.01842694 0.01865497 0.0188298  0.01935928 0.01902878 0.01915273\n",
      " 0.0192671  0.01937592 0.01948399 0.01959286 0.01970233 0.01981171]\n",
      "8 day output [[0.01992031]]\n",
      "9 day input [0.00776739 0.00786055 0.00836006 0.00948396 0.00978466 0.00930588\n",
      " 0.00893374 0.00993526 0.01057639 0.01000519 0.01006339 0.01060036\n",
      " 0.01222802 0.01132815 0.01012183 0.01010335 0.01000694 0.00985859\n",
      " 0.01151047 0.0120914  0.01228971 0.01226973 0.01287413 0.01246778\n",
      " 0.01243606 0.01120077 0.00997847 0.01024496 0.00927416 0.01037483\n",
      " 0.01046974 0.00959385 0.00964879 0.00880812 0.00803538 0.00822519\n",
      " 0.00802539 0.008162   0.01008686 0.0097472  0.01048797 0.01114658\n",
      " 0.01120227 0.01125722 0.01105916 0.01259441 0.0131104  0.01308043\n",
      " 0.01365986 0.01401127 0.01308543 0.01287064 0.01314212 0.01259091\n",
      " 0.01241958 0.01034811 0.00901442 0.0100519  0.01054467 0.01085761\n",
      " 0.01101745 0.0121913  0.01177022 0.01332694 0.01408794 0.01425778\n",
      " 0.01461243 0.0146474  0.01679179 0.01744465 0.01738621 0.01715818\n",
      " 0.01650208 0.01748961 0.01732802 0.01898639 0.018367   0.01914948\n",
      " 0.01798737 0.01755455 0.01788422 0.01636072 0.0160725  0.01624233\n",
      " 0.01453575 0.01586121 0.01647061 0.01632225 0.01581625 0.01572284\n",
      " 0.01650058 0.01298727 0.01524681 0.01525505 0.01455748 0.01526329\n",
      " 0.01445259 0.01395457 0.01376651 0.01432421 0.01388464 0.01347355\n",
      " 0.01552479 0.01887151 0.01924939 0.01929784 0.01947267 0.0185718\n",
      " 0.01794067 0.01607924 0.01648559 0.01691517 0.0171382  0.0171964\n",
      " 0.01806055 0.01777258 0.01770939 0.01925613 0.02000539 0.01959904\n",
      " 0.01949265 0.01834702 0.02256614 0.02275095 0.02288258 0.02244625\n",
      " 0.02305066 0.02226493 0.02370502 0.02289756 0.02338533 0.02098444\n",
      " 0.02001214 0.01991049 0.01965898 0.01979385 0.01883329 0.01842694\n",
      " 0.01865497 0.0188298  0.01935928 0.01902878 0.01915273 0.0192671\n",
      " 0.01937592 0.01948399 0.01959286 0.01970233 0.01981171 0.01992031]\n",
      "9 day output [[0.02002756]]\n",
      "10 day input [0.00786055 0.00836006 0.00948396 0.00978466 0.00930588 0.00893374\n",
      " 0.00993526 0.01057639 0.01000519 0.01006339 0.01060036 0.01222802\n",
      " 0.01132815 0.01012183 0.01010335 0.01000694 0.00985859 0.01151047\n",
      " 0.0120914  0.01228971 0.01226973 0.01287413 0.01246778 0.01243606\n",
      " 0.01120077 0.00997847 0.01024496 0.00927416 0.01037483 0.01046974\n",
      " 0.00959385 0.00964879 0.00880812 0.00803538 0.00822519 0.00802539\n",
      " 0.008162   0.01008686 0.0097472  0.01048797 0.01114658 0.01120227\n",
      " 0.01125722 0.01105916 0.01259441 0.0131104  0.01308043 0.01365986\n",
      " 0.01401127 0.01308543 0.01287064 0.01314212 0.01259091 0.01241958\n",
      " 0.01034811 0.00901442 0.0100519  0.01054467 0.01085761 0.01101745\n",
      " 0.0121913  0.01177022 0.01332694 0.01408794 0.01425778 0.01461243\n",
      " 0.0146474  0.01679179 0.01744465 0.01738621 0.01715818 0.01650208\n",
      " 0.01748961 0.01732802 0.01898639 0.018367   0.01914948 0.01798737\n",
      " 0.01755455 0.01788422 0.01636072 0.0160725  0.01624233 0.01453575\n",
      " 0.01586121 0.01647061 0.01632225 0.01581625 0.01572284 0.01650058\n",
      " 0.01298727 0.01524681 0.01525505 0.01455748 0.01526329 0.01445259\n",
      " 0.01395457 0.01376651 0.01432421 0.01388464 0.01347355 0.01552479\n",
      " 0.01887151 0.01924939 0.01929784 0.01947267 0.0185718  0.01794067\n",
      " 0.01607924 0.01648559 0.01691517 0.0171382  0.0171964  0.01806055\n",
      " 0.01777258 0.01770939 0.01925613 0.02000539 0.01959904 0.01949265\n",
      " 0.01834702 0.02256614 0.02275095 0.02288258 0.02244625 0.02305066\n",
      " 0.02226493 0.02370502 0.02289756 0.02338533 0.02098444 0.02001214\n",
      " 0.01991049 0.01965898 0.01979385 0.01883329 0.01842694 0.01865497\n",
      " 0.0188298  0.01935928 0.01902878 0.01915273 0.0192671  0.01937592\n",
      " 0.01948399 0.01959286 0.01970233 0.01981171 0.01992031 0.02002756]\n",
      "10 day output [[0.02013298]]\n",
      "11 day input [0.00836006 0.00948396 0.00978466 0.00930588 0.00893374 0.00993526\n",
      " 0.01057639 0.01000519 0.01006339 0.01060036 0.01222802 0.01132815\n",
      " 0.01012183 0.01010335 0.01000694 0.00985859 0.01151047 0.0120914\n",
      " 0.01228971 0.01226973 0.01287413 0.01246778 0.01243606 0.01120077\n",
      " 0.00997847 0.01024496 0.00927416 0.01037483 0.01046974 0.00959385\n",
      " 0.00964879 0.00880812 0.00803538 0.00822519 0.00802539 0.008162\n",
      " 0.01008686 0.0097472  0.01048797 0.01114658 0.01120227 0.01125722\n",
      " 0.01105916 0.01259441 0.0131104  0.01308043 0.01365986 0.01401127\n",
      " 0.01308543 0.01287064 0.01314212 0.01259091 0.01241958 0.01034811\n",
      " 0.00901442 0.0100519  0.01054467 0.01085761 0.01101745 0.0121913\n",
      " 0.01177022 0.01332694 0.01408794 0.01425778 0.01461243 0.0146474\n",
      " 0.01679179 0.01744465 0.01738621 0.01715818 0.01650208 0.01748961\n",
      " 0.01732802 0.01898639 0.018367   0.01914948 0.01798737 0.01755455\n",
      " 0.01788422 0.01636072 0.0160725  0.01624233 0.01453575 0.01586121\n",
      " 0.01647061 0.01632225 0.01581625 0.01572284 0.01650058 0.01298727\n",
      " 0.01524681 0.01525505 0.01455748 0.01526329 0.01445259 0.01395457\n",
      " 0.01376651 0.01432421 0.01388464 0.01347355 0.01552479 0.01887151\n",
      " 0.01924939 0.01929784 0.01947267 0.0185718  0.01794067 0.01607924\n",
      " 0.01648559 0.01691517 0.0171382  0.0171964  0.01806055 0.01777258\n",
      " 0.01770939 0.01925613 0.02000539 0.01959904 0.01949265 0.01834702\n",
      " 0.02256614 0.02275095 0.02288258 0.02244625 0.02305066 0.02226493\n",
      " 0.02370502 0.02289756 0.02338533 0.02098444 0.02001214 0.01991049\n",
      " 0.01965898 0.01979385 0.01883329 0.01842694 0.01865497 0.0188298\n",
      " 0.01935928 0.01902878 0.01915273 0.0192671  0.01937592 0.01948399\n",
      " 0.01959286 0.01970233 0.01981171 0.01992031 0.02002756 0.02013298]\n",
      "11 day output [[0.02023626]]\n",
      "12 day input [0.00948396 0.00978466 0.00930588 0.00893374 0.00993526 0.01057639\n",
      " 0.01000519 0.01006339 0.01060036 0.01222802 0.01132815 0.01012183\n",
      " 0.01010335 0.01000694 0.00985859 0.01151047 0.0120914  0.01228971\n",
      " 0.01226973 0.01287413 0.01246778 0.01243606 0.01120077 0.00997847\n",
      " 0.01024496 0.00927416 0.01037483 0.01046974 0.00959385 0.00964879\n",
      " 0.00880812 0.00803538 0.00822519 0.00802539 0.008162   0.01008686\n",
      " 0.0097472  0.01048797 0.01114658 0.01120227 0.01125722 0.01105916\n",
      " 0.01259441 0.0131104  0.01308043 0.01365986 0.01401127 0.01308543\n",
      " 0.01287064 0.01314212 0.01259091 0.01241958 0.01034811 0.00901442\n",
      " 0.0100519  0.01054467 0.01085761 0.01101745 0.0121913  0.01177022\n",
      " 0.01332694 0.01408794 0.01425778 0.01461243 0.0146474  0.01679179\n",
      " 0.01744465 0.01738621 0.01715818 0.01650208 0.01748961 0.01732802\n",
      " 0.01898639 0.018367   0.01914948 0.01798737 0.01755455 0.01788422\n",
      " 0.01636072 0.0160725  0.01624233 0.01453575 0.01586121 0.01647061\n",
      " 0.01632225 0.01581625 0.01572284 0.01650058 0.01298727 0.01524681\n",
      " 0.01525505 0.01455748 0.01526329 0.01445259 0.01395457 0.01376651\n",
      " 0.01432421 0.01388464 0.01347355 0.01552479 0.01887151 0.01924939\n",
      " 0.01929784 0.01947267 0.0185718  0.01794067 0.01607924 0.01648559\n",
      " 0.01691517 0.0171382  0.0171964  0.01806055 0.01777258 0.01770939\n",
      " 0.01925613 0.02000539 0.01959904 0.01949265 0.01834702 0.02256614\n",
      " 0.02275095 0.02288258 0.02244625 0.02305066 0.02226493 0.02370502\n",
      " 0.02289756 0.02338533 0.02098444 0.02001214 0.01991049 0.01965898\n",
      " 0.01979385 0.01883329 0.01842694 0.01865497 0.0188298  0.01935928\n",
      " 0.01902878 0.01915273 0.0192671  0.01937592 0.01948399 0.01959286\n",
      " 0.01970233 0.01981171 0.01992031 0.02002756 0.02013298 0.02023626]\n",
      "12 day output [[0.02033715]]\n",
      "13 day input [0.00978466 0.00930588 0.00893374 0.00993526 0.01057639 0.01000519\n",
      " 0.01006339 0.01060036 0.01222802 0.01132815 0.01012183 0.01010335\n",
      " 0.01000694 0.00985859 0.01151047 0.0120914  0.01228971 0.01226973\n",
      " 0.01287413 0.01246778 0.01243606 0.01120077 0.00997847 0.01024496\n",
      " 0.00927416 0.01037483 0.01046974 0.00959385 0.00964879 0.00880812\n",
      " 0.00803538 0.00822519 0.00802539 0.008162   0.01008686 0.0097472\n",
      " 0.01048797 0.01114658 0.01120227 0.01125722 0.01105916 0.01259441\n",
      " 0.0131104  0.01308043 0.01365986 0.01401127 0.01308543 0.01287064\n",
      " 0.01314212 0.01259091 0.01241958 0.01034811 0.00901442 0.0100519\n",
      " 0.01054467 0.01085761 0.01101745 0.0121913  0.01177022 0.01332694\n",
      " 0.01408794 0.01425778 0.01461243 0.0146474  0.01679179 0.01744465\n",
      " 0.01738621 0.01715818 0.01650208 0.01748961 0.01732802 0.01898639\n",
      " 0.018367   0.01914948 0.01798737 0.01755455 0.01788422 0.01636072\n",
      " 0.0160725  0.01624233 0.01453575 0.01586121 0.01647061 0.01632225\n",
      " 0.01581625 0.01572284 0.01650058 0.01298727 0.01524681 0.01525505\n",
      " 0.01455748 0.01526329 0.01445259 0.01395457 0.01376651 0.01432421\n",
      " 0.01388464 0.01347355 0.01552479 0.01887151 0.01924939 0.01929784\n",
      " 0.01947267 0.0185718  0.01794067 0.01607924 0.01648559 0.01691517\n",
      " 0.0171382  0.0171964  0.01806055 0.01777258 0.01770939 0.01925613\n",
      " 0.02000539 0.01959904 0.01949265 0.01834702 0.02256614 0.02275095\n",
      " 0.02288258 0.02244625 0.02305066 0.02226493 0.02370502 0.02289756\n",
      " 0.02338533 0.02098444 0.02001214 0.01991049 0.01965898 0.01979385\n",
      " 0.01883329 0.01842694 0.01865497 0.0188298  0.01935928 0.01902878\n",
      " 0.01915273 0.0192671  0.01937592 0.01948399 0.01959286 0.01970233\n",
      " 0.01981171 0.01992031 0.02002756 0.02013298 0.02023626 0.02033715]\n",
      "13 day output [[0.02043547]]\n",
      "14 day input [0.00930588 0.00893374 0.00993526 0.01057639 0.01000519 0.01006339\n",
      " 0.01060036 0.01222802 0.01132815 0.01012183 0.01010335 0.01000694\n",
      " 0.00985859 0.01151047 0.0120914  0.01228971 0.01226973 0.01287413\n",
      " 0.01246778 0.01243606 0.01120077 0.00997847 0.01024496 0.00927416\n",
      " 0.01037483 0.01046974 0.00959385 0.00964879 0.00880812 0.00803538\n",
      " 0.00822519 0.00802539 0.008162   0.01008686 0.0097472  0.01048797\n",
      " 0.01114658 0.01120227 0.01125722 0.01105916 0.01259441 0.0131104\n",
      " 0.01308043 0.01365986 0.01401127 0.01308543 0.01287064 0.01314212\n",
      " 0.01259091 0.01241958 0.01034811 0.00901442 0.0100519  0.01054467\n",
      " 0.01085761 0.01101745 0.0121913  0.01177022 0.01332694 0.01408794\n",
      " 0.01425778 0.01461243 0.0146474  0.01679179 0.01744465 0.01738621\n",
      " 0.01715818 0.01650208 0.01748961 0.01732802 0.01898639 0.018367\n",
      " 0.01914948 0.01798737 0.01755455 0.01788422 0.01636072 0.0160725\n",
      " 0.01624233 0.01453575 0.01586121 0.01647061 0.01632225 0.01581625\n",
      " 0.01572284 0.01650058 0.01298727 0.01524681 0.01525505 0.01455748\n",
      " 0.01526329 0.01445259 0.01395457 0.01376651 0.01432421 0.01388464\n",
      " 0.01347355 0.01552479 0.01887151 0.01924939 0.01929784 0.01947267\n",
      " 0.0185718  0.01794067 0.01607924 0.01648559 0.01691517 0.0171382\n",
      " 0.0171964  0.01806055 0.01777258 0.01770939 0.01925613 0.02000539\n",
      " 0.01959904 0.01949265 0.01834702 0.02256614 0.02275095 0.02288258\n",
      " 0.02244625 0.02305066 0.02226493 0.02370502 0.02289756 0.02338533\n",
      " 0.02098444 0.02001214 0.01991049 0.01965898 0.01979385 0.01883329\n",
      " 0.01842694 0.01865497 0.0188298  0.01935928 0.01902878 0.01915273\n",
      " 0.0192671  0.01937592 0.01948399 0.01959286 0.01970233 0.01981171\n",
      " 0.01992031 0.02002756 0.02013298 0.02023626 0.02033715 0.02043547]\n",
      "14 day output [[0.02053117]]\n",
      "15 day input [0.00893374 0.00993526 0.01057639 0.01000519 0.01006339 0.01060036\n",
      " 0.01222802 0.01132815 0.01012183 0.01010335 0.01000694 0.00985859\n",
      " 0.01151047 0.0120914  0.01228971 0.01226973 0.01287413 0.01246778\n",
      " 0.01243606 0.01120077 0.00997847 0.01024496 0.00927416 0.01037483\n",
      " 0.01046974 0.00959385 0.00964879 0.00880812 0.00803538 0.00822519\n",
      " 0.00802539 0.008162   0.01008686 0.0097472  0.01048797 0.01114658\n",
      " 0.01120227 0.01125722 0.01105916 0.01259441 0.0131104  0.01308043\n",
      " 0.01365986 0.01401127 0.01308543 0.01287064 0.01314212 0.01259091\n",
      " 0.01241958 0.01034811 0.00901442 0.0100519  0.01054467 0.01085761\n",
      " 0.01101745 0.0121913  0.01177022 0.01332694 0.01408794 0.01425778\n",
      " 0.01461243 0.0146474  0.01679179 0.01744465 0.01738621 0.01715818\n",
      " 0.01650208 0.01748961 0.01732802 0.01898639 0.018367   0.01914948\n",
      " 0.01798737 0.01755455 0.01788422 0.01636072 0.0160725  0.01624233\n",
      " 0.01453575 0.01586121 0.01647061 0.01632225 0.01581625 0.01572284\n",
      " 0.01650058 0.01298727 0.01524681 0.01525505 0.01455748 0.01526329\n",
      " 0.01445259 0.01395457 0.01376651 0.01432421 0.01388464 0.01347355\n",
      " 0.01552479 0.01887151 0.01924939 0.01929784 0.01947267 0.0185718\n",
      " 0.01794067 0.01607924 0.01648559 0.01691517 0.0171382  0.0171964\n",
      " 0.01806055 0.01777258 0.01770939 0.01925613 0.02000539 0.01959904\n",
      " 0.01949265 0.01834702 0.02256614 0.02275095 0.02288258 0.02244625\n",
      " 0.02305066 0.02226493 0.02370502 0.02289756 0.02338533 0.02098444\n",
      " 0.02001214 0.01991049 0.01965898 0.01979385 0.01883329 0.01842694\n",
      " 0.01865497 0.0188298  0.01935928 0.01902878 0.01915273 0.0192671\n",
      " 0.01937592 0.01948399 0.01959286 0.01970233 0.01981171 0.01992031\n",
      " 0.02002756 0.02013298 0.02023626 0.02033715 0.02043547 0.02053117]\n",
      "15 day output [[0.02062422]]\n",
      "16 day input [0.00993526 0.01057639 0.01000519 0.01006339 0.01060036 0.01222802\n",
      " 0.01132815 0.01012183 0.01010335 0.01000694 0.00985859 0.01151047\n",
      " 0.0120914  0.01228971 0.01226973 0.01287413 0.01246778 0.01243606\n",
      " 0.01120077 0.00997847 0.01024496 0.00927416 0.01037483 0.01046974\n",
      " 0.00959385 0.00964879 0.00880812 0.00803538 0.00822519 0.00802539\n",
      " 0.008162   0.01008686 0.0097472  0.01048797 0.01114658 0.01120227\n",
      " 0.01125722 0.01105916 0.01259441 0.0131104  0.01308043 0.01365986\n",
      " 0.01401127 0.01308543 0.01287064 0.01314212 0.01259091 0.01241958\n",
      " 0.01034811 0.00901442 0.0100519  0.01054467 0.01085761 0.01101745\n",
      " 0.0121913  0.01177022 0.01332694 0.01408794 0.01425778 0.01461243\n",
      " 0.0146474  0.01679179 0.01744465 0.01738621 0.01715818 0.01650208\n",
      " 0.01748961 0.01732802 0.01898639 0.018367   0.01914948 0.01798737\n",
      " 0.01755455 0.01788422 0.01636072 0.0160725  0.01624233 0.01453575\n",
      " 0.01586121 0.01647061 0.01632225 0.01581625 0.01572284 0.01650058\n",
      " 0.01298727 0.01524681 0.01525505 0.01455748 0.01526329 0.01445259\n",
      " 0.01395457 0.01376651 0.01432421 0.01388464 0.01347355 0.01552479\n",
      " 0.01887151 0.01924939 0.01929784 0.01947267 0.0185718  0.01794067\n",
      " 0.01607924 0.01648559 0.01691517 0.0171382  0.0171964  0.01806055\n",
      " 0.01777258 0.01770939 0.01925613 0.02000539 0.01959904 0.01949265\n",
      " 0.01834702 0.02256614 0.02275095 0.02288258 0.02244625 0.02305066\n",
      " 0.02226493 0.02370502 0.02289756 0.02338533 0.02098444 0.02001214\n",
      " 0.01991049 0.01965898 0.01979385 0.01883329 0.01842694 0.01865497\n",
      " 0.0188298  0.01935928 0.01902878 0.01915273 0.0192671  0.01937592\n",
      " 0.01948399 0.01959286 0.01970233 0.01981171 0.01992031 0.02002756\n",
      " 0.02013298 0.02023626 0.02033715 0.02043547 0.02053117 0.02062422]\n",
      "16 day output [[0.02071471]]\n",
      "17 day input [0.01057639 0.01000519 0.01006339 0.01060036 0.01222802 0.01132815\n",
      " 0.01012183 0.01010335 0.01000694 0.00985859 0.01151047 0.0120914\n",
      " 0.01228971 0.01226973 0.01287413 0.01246778 0.01243606 0.01120077\n",
      " 0.00997847 0.01024496 0.00927416 0.01037483 0.01046974 0.00959385\n",
      " 0.00964879 0.00880812 0.00803538 0.00822519 0.00802539 0.008162\n",
      " 0.01008686 0.0097472  0.01048797 0.01114658 0.01120227 0.01125722\n",
      " 0.01105916 0.01259441 0.0131104  0.01308043 0.01365986 0.01401127\n",
      " 0.01308543 0.01287064 0.01314212 0.01259091 0.01241958 0.01034811\n",
      " 0.00901442 0.0100519  0.01054467 0.01085761 0.01101745 0.0121913\n",
      " 0.01177022 0.01332694 0.01408794 0.01425778 0.01461243 0.0146474\n",
      " 0.01679179 0.01744465 0.01738621 0.01715818 0.01650208 0.01748961\n",
      " 0.01732802 0.01898639 0.018367   0.01914948 0.01798737 0.01755455\n",
      " 0.01788422 0.01636072 0.0160725  0.01624233 0.01453575 0.01586121\n",
      " 0.01647061 0.01632225 0.01581625 0.01572284 0.01650058 0.01298727\n",
      " 0.01524681 0.01525505 0.01455748 0.01526329 0.01445259 0.01395457\n",
      " 0.01376651 0.01432421 0.01388464 0.01347355 0.01552479 0.01887151\n",
      " 0.01924939 0.01929784 0.01947267 0.0185718  0.01794067 0.01607924\n",
      " 0.01648559 0.01691517 0.0171382  0.0171964  0.01806055 0.01777258\n",
      " 0.01770939 0.01925613 0.02000539 0.01959904 0.01949265 0.01834702\n",
      " 0.02256614 0.02275095 0.02288258 0.02244625 0.02305066 0.02226493\n",
      " 0.02370502 0.02289756 0.02338533 0.02098444 0.02001214 0.01991049\n",
      " 0.01965898 0.01979385 0.01883329 0.01842694 0.01865497 0.0188298\n",
      " 0.01935928 0.01902878 0.01915273 0.0192671  0.01937592 0.01948399\n",
      " 0.01959286 0.01970233 0.01981171 0.01992031 0.02002756 0.02013298\n",
      " 0.02023626 0.02033715 0.02043547 0.02053117 0.02062422 0.02071471]\n",
      "17 day output [[0.02080269]]\n",
      "18 day input [0.01000519 0.01006339 0.01060036 0.01222802 0.01132815 0.01012183\n",
      " 0.01010335 0.01000694 0.00985859 0.01151047 0.0120914  0.01228971\n",
      " 0.01226973 0.01287413 0.01246778 0.01243606 0.01120077 0.00997847\n",
      " 0.01024496 0.00927416 0.01037483 0.01046974 0.00959385 0.00964879\n",
      " 0.00880812 0.00803538 0.00822519 0.00802539 0.008162   0.01008686\n",
      " 0.0097472  0.01048797 0.01114658 0.01120227 0.01125722 0.01105916\n",
      " 0.01259441 0.0131104  0.01308043 0.01365986 0.01401127 0.01308543\n",
      " 0.01287064 0.01314212 0.01259091 0.01241958 0.01034811 0.00901442\n",
      " 0.0100519  0.01054467 0.01085761 0.01101745 0.0121913  0.01177022\n",
      " 0.01332694 0.01408794 0.01425778 0.01461243 0.0146474  0.01679179\n",
      " 0.01744465 0.01738621 0.01715818 0.01650208 0.01748961 0.01732802\n",
      " 0.01898639 0.018367   0.01914948 0.01798737 0.01755455 0.01788422\n",
      " 0.01636072 0.0160725  0.01624233 0.01453575 0.01586121 0.01647061\n",
      " 0.01632225 0.01581625 0.01572284 0.01650058 0.01298727 0.01524681\n",
      " 0.01525505 0.01455748 0.01526329 0.01445259 0.01395457 0.01376651\n",
      " 0.01432421 0.01388464 0.01347355 0.01552479 0.01887151 0.01924939\n",
      " 0.01929784 0.01947267 0.0185718  0.01794067 0.01607924 0.01648559\n",
      " 0.01691517 0.0171382  0.0171964  0.01806055 0.01777258 0.01770939\n",
      " 0.01925613 0.02000539 0.01959904 0.01949265 0.01834702 0.02256614\n",
      " 0.02275095 0.02288258 0.02244625 0.02305066 0.02226493 0.02370502\n",
      " 0.02289756 0.02338533 0.02098444 0.02001214 0.01991049 0.01965898\n",
      " 0.01979385 0.01883329 0.01842694 0.01865497 0.0188298  0.01935928\n",
      " 0.01902878 0.01915273 0.0192671  0.01937592 0.01948399 0.01959286\n",
      " 0.01970233 0.01981171 0.01992031 0.02002756 0.02013298 0.02023626\n",
      " 0.02033715 0.02043547 0.02053117 0.02062422 0.02071471 0.02080269]\n",
      "18 day output [[0.02088831]]\n",
      "19 day input [0.01006339 0.01060036 0.01222802 0.01132815 0.01012183 0.01010335\n",
      " 0.01000694 0.00985859 0.01151047 0.0120914  0.01228971 0.01226973\n",
      " 0.01287413 0.01246778 0.01243606 0.01120077 0.00997847 0.01024496\n",
      " 0.00927416 0.01037483 0.01046974 0.00959385 0.00964879 0.00880812\n",
      " 0.00803538 0.00822519 0.00802539 0.008162   0.01008686 0.0097472\n",
      " 0.01048797 0.01114658 0.01120227 0.01125722 0.01105916 0.01259441\n",
      " 0.0131104  0.01308043 0.01365986 0.01401127 0.01308543 0.01287064\n",
      " 0.01314212 0.01259091 0.01241958 0.01034811 0.00901442 0.0100519\n",
      " 0.01054467 0.01085761 0.01101745 0.0121913  0.01177022 0.01332694\n",
      " 0.01408794 0.01425778 0.01461243 0.0146474  0.01679179 0.01744465\n",
      " 0.01738621 0.01715818 0.01650208 0.01748961 0.01732802 0.01898639\n",
      " 0.018367   0.01914948 0.01798737 0.01755455 0.01788422 0.01636072\n",
      " 0.0160725  0.01624233 0.01453575 0.01586121 0.01647061 0.01632225\n",
      " 0.01581625 0.01572284 0.01650058 0.01298727 0.01524681 0.01525505\n",
      " 0.01455748 0.01526329 0.01445259 0.01395457 0.01376651 0.01432421\n",
      " 0.01388464 0.01347355 0.01552479 0.01887151 0.01924939 0.01929784\n",
      " 0.01947267 0.0185718  0.01794067 0.01607924 0.01648559 0.01691517\n",
      " 0.0171382  0.0171964  0.01806055 0.01777258 0.01770939 0.01925613\n",
      " 0.02000539 0.01959904 0.01949265 0.01834702 0.02256614 0.02275095\n",
      " 0.02288258 0.02244625 0.02305066 0.02226493 0.02370502 0.02289756\n",
      " 0.02338533 0.02098444 0.02001214 0.01991049 0.01965898 0.01979385\n",
      " 0.01883329 0.01842694 0.01865497 0.0188298  0.01935928 0.01902878\n",
      " 0.01915273 0.0192671  0.01937592 0.01948399 0.01959286 0.01970233\n",
      " 0.01981171 0.01992031 0.02002756 0.02013298 0.02023626 0.02033715\n",
      " 0.02043547 0.02053117 0.02062422 0.02071471 0.02080269 0.02088831]\n",
      "19 day output [[0.02097168]]\n",
      "20 day input [0.01060036 0.01222802 0.01132815 0.01012183 0.01010335 0.01000694\n",
      " 0.00985859 0.01151047 0.0120914  0.01228971 0.01226973 0.01287413\n",
      " 0.01246778 0.01243606 0.01120077 0.00997847 0.01024496 0.00927416\n",
      " 0.01037483 0.01046974 0.00959385 0.00964879 0.00880812 0.00803538\n",
      " 0.00822519 0.00802539 0.008162   0.01008686 0.0097472  0.01048797\n",
      " 0.01114658 0.01120227 0.01125722 0.01105916 0.01259441 0.0131104\n",
      " 0.01308043 0.01365986 0.01401127 0.01308543 0.01287064 0.01314212\n",
      " 0.01259091 0.01241958 0.01034811 0.00901442 0.0100519  0.01054467\n",
      " 0.01085761 0.01101745 0.0121913  0.01177022 0.01332694 0.01408794\n",
      " 0.01425778 0.01461243 0.0146474  0.01679179 0.01744465 0.01738621\n",
      " 0.01715818 0.01650208 0.01748961 0.01732802 0.01898639 0.018367\n",
      " 0.01914948 0.01798737 0.01755455 0.01788422 0.01636072 0.0160725\n",
      " 0.01624233 0.01453575 0.01586121 0.01647061 0.01632225 0.01581625\n",
      " 0.01572284 0.01650058 0.01298727 0.01524681 0.01525505 0.01455748\n",
      " 0.01526329 0.01445259 0.01395457 0.01376651 0.01432421 0.01388464\n",
      " 0.01347355 0.01552479 0.01887151 0.01924939 0.01929784 0.01947267\n",
      " 0.0185718  0.01794067 0.01607924 0.01648559 0.01691517 0.0171382\n",
      " 0.0171964  0.01806055 0.01777258 0.01770939 0.01925613 0.02000539\n",
      " 0.01959904 0.01949265 0.01834702 0.02256614 0.02275095 0.02288258\n",
      " 0.02244625 0.02305066 0.02226493 0.02370502 0.02289756 0.02338533\n",
      " 0.02098444 0.02001214 0.01991049 0.01965898 0.01979385 0.01883329\n",
      " 0.01842694 0.01865497 0.0188298  0.01935928 0.01902878 0.01915273\n",
      " 0.0192671  0.01937592 0.01948399 0.01959286 0.01970233 0.01981171\n",
      " 0.01992031 0.02002756 0.02013298 0.02023626 0.02033715 0.02043547\n",
      " 0.02053117 0.02062422 0.02071471 0.02080269 0.02088831 0.02097168]\n",
      "20 day output [[0.02105296]]\n",
      "21 day input [0.01222802 0.01132815 0.01012183 0.01010335 0.01000694 0.00985859\n",
      " 0.01151047 0.0120914  0.01228971 0.01226973 0.01287413 0.01246778\n",
      " 0.01243606 0.01120077 0.00997847 0.01024496 0.00927416 0.01037483\n",
      " 0.01046974 0.00959385 0.00964879 0.00880812 0.00803538 0.00822519\n",
      " 0.00802539 0.008162   0.01008686 0.0097472  0.01048797 0.01114658\n",
      " 0.01120227 0.01125722 0.01105916 0.01259441 0.0131104  0.01308043\n",
      " 0.01365986 0.01401127 0.01308543 0.01287064 0.01314212 0.01259091\n",
      " 0.01241958 0.01034811 0.00901442 0.0100519  0.01054467 0.01085761\n",
      " 0.01101745 0.0121913  0.01177022 0.01332694 0.01408794 0.01425778\n",
      " 0.01461243 0.0146474  0.01679179 0.01744465 0.01738621 0.01715818\n",
      " 0.01650208 0.01748961 0.01732802 0.01898639 0.018367   0.01914948\n",
      " 0.01798737 0.01755455 0.01788422 0.01636072 0.0160725  0.01624233\n",
      " 0.01453575 0.01586121 0.01647061 0.01632225 0.01581625 0.01572284\n",
      " 0.01650058 0.01298727 0.01524681 0.01525505 0.01455748 0.01526329\n",
      " 0.01445259 0.01395457 0.01376651 0.01432421 0.01388464 0.01347355\n",
      " 0.01552479 0.01887151 0.01924939 0.01929784 0.01947267 0.0185718\n",
      " 0.01794067 0.01607924 0.01648559 0.01691517 0.0171382  0.0171964\n",
      " 0.01806055 0.01777258 0.01770939 0.01925613 0.02000539 0.01959904\n",
      " 0.01949265 0.01834702 0.02256614 0.02275095 0.02288258 0.02244625\n",
      " 0.02305066 0.02226493 0.02370502 0.02289756 0.02338533 0.02098444\n",
      " 0.02001214 0.01991049 0.01965898 0.01979385 0.01883329 0.01842694\n",
      " 0.01865497 0.0188298  0.01935928 0.01902878 0.01915273 0.0192671\n",
      " 0.01937592 0.01948399 0.01959286 0.01970233 0.01981171 0.01992031\n",
      " 0.02002756 0.02013298 0.02023626 0.02033715 0.02043547 0.02053117\n",
      " 0.02062422 0.02071471 0.02080269 0.02088831 0.02097168 0.02105296]\n",
      "21 day output [[0.02113229]]\n",
      "22 day input [0.01132815 0.01012183 0.01010335 0.01000694 0.00985859 0.01151047\n",
      " 0.0120914  0.01228971 0.01226973 0.01287413 0.01246778 0.01243606\n",
      " 0.01120077 0.00997847 0.01024496 0.00927416 0.01037483 0.01046974\n",
      " 0.00959385 0.00964879 0.00880812 0.00803538 0.00822519 0.00802539\n",
      " 0.008162   0.01008686 0.0097472  0.01048797 0.01114658 0.01120227\n",
      " 0.01125722 0.01105916 0.01259441 0.0131104  0.01308043 0.01365986\n",
      " 0.01401127 0.01308543 0.01287064 0.01314212 0.01259091 0.01241958\n",
      " 0.01034811 0.00901442 0.0100519  0.01054467 0.01085761 0.01101745\n",
      " 0.0121913  0.01177022 0.01332694 0.01408794 0.01425778 0.01461243\n",
      " 0.0146474  0.01679179 0.01744465 0.01738621 0.01715818 0.01650208\n",
      " 0.01748961 0.01732802 0.01898639 0.018367   0.01914948 0.01798737\n",
      " 0.01755455 0.01788422 0.01636072 0.0160725  0.01624233 0.01453575\n",
      " 0.01586121 0.01647061 0.01632225 0.01581625 0.01572284 0.01650058\n",
      " 0.01298727 0.01524681 0.01525505 0.01455748 0.01526329 0.01445259\n",
      " 0.01395457 0.01376651 0.01432421 0.01388464 0.01347355 0.01552479\n",
      " 0.01887151 0.01924939 0.01929784 0.01947267 0.0185718  0.01794067\n",
      " 0.01607924 0.01648559 0.01691517 0.0171382  0.0171964  0.01806055\n",
      " 0.01777258 0.01770939 0.01925613 0.02000539 0.01959904 0.01949265\n",
      " 0.01834702 0.02256614 0.02275095 0.02288258 0.02244625 0.02305066\n",
      " 0.02226493 0.02370502 0.02289756 0.02338533 0.02098444 0.02001214\n",
      " 0.01991049 0.01965898 0.01979385 0.01883329 0.01842694 0.01865497\n",
      " 0.0188298  0.01935928 0.01902878 0.01915273 0.0192671  0.01937592\n",
      " 0.01948399 0.01959286 0.01970233 0.01981171 0.01992031 0.02002756\n",
      " 0.02013298 0.02023626 0.02033715 0.02043547 0.02053117 0.02062422\n",
      " 0.02071471 0.02080269 0.02088831 0.02097168 0.02105296 0.02113229]\n",
      "22 day output [[0.02120982]]\n",
      "23 day input [0.01012183 0.01010335 0.01000694 0.00985859 0.01151047 0.0120914\n",
      " 0.01228971 0.01226973 0.01287413 0.01246778 0.01243606 0.01120077\n",
      " 0.00997847 0.01024496 0.00927416 0.01037483 0.01046974 0.00959385\n",
      " 0.00964879 0.00880812 0.00803538 0.00822519 0.00802539 0.008162\n",
      " 0.01008686 0.0097472  0.01048797 0.01114658 0.01120227 0.01125722\n",
      " 0.01105916 0.01259441 0.0131104  0.01308043 0.01365986 0.01401127\n",
      " 0.01308543 0.01287064 0.01314212 0.01259091 0.01241958 0.01034811\n",
      " 0.00901442 0.0100519  0.01054467 0.01085761 0.01101745 0.0121913\n",
      " 0.01177022 0.01332694 0.01408794 0.01425778 0.01461243 0.0146474\n",
      " 0.01679179 0.01744465 0.01738621 0.01715818 0.01650208 0.01748961\n",
      " 0.01732802 0.01898639 0.018367   0.01914948 0.01798737 0.01755455\n",
      " 0.01788422 0.01636072 0.0160725  0.01624233 0.01453575 0.01586121\n",
      " 0.01647061 0.01632225 0.01581625 0.01572284 0.01650058 0.01298727\n",
      " 0.01524681 0.01525505 0.01455748 0.01526329 0.01445259 0.01395457\n",
      " 0.01376651 0.01432421 0.01388464 0.01347355 0.01552479 0.01887151\n",
      " 0.01924939 0.01929784 0.01947267 0.0185718  0.01794067 0.01607924\n",
      " 0.01648559 0.01691517 0.0171382  0.0171964  0.01806055 0.01777258\n",
      " 0.01770939 0.01925613 0.02000539 0.01959904 0.01949265 0.01834702\n",
      " 0.02256614 0.02275095 0.02288258 0.02244625 0.02305066 0.02226493\n",
      " 0.02370502 0.02289756 0.02338533 0.02098444 0.02001214 0.01991049\n",
      " 0.01965898 0.01979385 0.01883329 0.01842694 0.01865497 0.0188298\n",
      " 0.01935928 0.01902878 0.01915273 0.0192671  0.01937592 0.01948399\n",
      " 0.01959286 0.01970233 0.01981171 0.01992031 0.02002756 0.02013298\n",
      " 0.02023626 0.02033715 0.02043547 0.02053117 0.02062422 0.02071471\n",
      " 0.02080269 0.02088831 0.02097168 0.02105296 0.02113229 0.02120982]\n",
      "23 day output [[0.02128566]]\n",
      "24 day input [0.01010335 0.01000694 0.00985859 0.01151047 0.0120914  0.01228971\n",
      " 0.01226973 0.01287413 0.01246778 0.01243606 0.01120077 0.00997847\n",
      " 0.01024496 0.00927416 0.01037483 0.01046974 0.00959385 0.00964879\n",
      " 0.00880812 0.00803538 0.00822519 0.00802539 0.008162   0.01008686\n",
      " 0.0097472  0.01048797 0.01114658 0.01120227 0.01125722 0.01105916\n",
      " 0.01259441 0.0131104  0.01308043 0.01365986 0.01401127 0.01308543\n",
      " 0.01287064 0.01314212 0.01259091 0.01241958 0.01034811 0.00901442\n",
      " 0.0100519  0.01054467 0.01085761 0.01101745 0.0121913  0.01177022\n",
      " 0.01332694 0.01408794 0.01425778 0.01461243 0.0146474  0.01679179\n",
      " 0.01744465 0.01738621 0.01715818 0.01650208 0.01748961 0.01732802\n",
      " 0.01898639 0.018367   0.01914948 0.01798737 0.01755455 0.01788422\n",
      " 0.01636072 0.0160725  0.01624233 0.01453575 0.01586121 0.01647061\n",
      " 0.01632225 0.01581625 0.01572284 0.01650058 0.01298727 0.01524681\n",
      " 0.01525505 0.01455748 0.01526329 0.01445259 0.01395457 0.01376651\n",
      " 0.01432421 0.01388464 0.01347355 0.01552479 0.01887151 0.01924939\n",
      " 0.01929784 0.01947267 0.0185718  0.01794067 0.01607924 0.01648559\n",
      " 0.01691517 0.0171382  0.0171964  0.01806055 0.01777258 0.01770939\n",
      " 0.01925613 0.02000539 0.01959904 0.01949265 0.01834702 0.02256614\n",
      " 0.02275095 0.02288258 0.02244625 0.02305066 0.02226493 0.02370502\n",
      " 0.02289756 0.02338533 0.02098444 0.02001214 0.01991049 0.01965898\n",
      " 0.01979385 0.01883329 0.01842694 0.01865497 0.0188298  0.01935928\n",
      " 0.01902878 0.01915273 0.0192671  0.01937592 0.01948399 0.01959286\n",
      " 0.01970233 0.01981171 0.01992031 0.02002756 0.02013298 0.02023626\n",
      " 0.02033715 0.02043547 0.02053117 0.02062422 0.02071471 0.02080269\n",
      " 0.02088831 0.02097168 0.02105296 0.02113229 0.02120982 0.02128566]\n",
      "24 day output [[0.02135997]]\n",
      "25 day input [0.01000694 0.00985859 0.01151047 0.0120914  0.01228971 0.01226973\n",
      " 0.01287413 0.01246778 0.01243606 0.01120077 0.00997847 0.01024496\n",
      " 0.00927416 0.01037483 0.01046974 0.00959385 0.00964879 0.00880812\n",
      " 0.00803538 0.00822519 0.00802539 0.008162   0.01008686 0.0097472\n",
      " 0.01048797 0.01114658 0.01120227 0.01125722 0.01105916 0.01259441\n",
      " 0.0131104  0.01308043 0.01365986 0.01401127 0.01308543 0.01287064\n",
      " 0.01314212 0.01259091 0.01241958 0.01034811 0.00901442 0.0100519\n",
      " 0.01054467 0.01085761 0.01101745 0.0121913  0.01177022 0.01332694\n",
      " 0.01408794 0.01425778 0.01461243 0.0146474  0.01679179 0.01744465\n",
      " 0.01738621 0.01715818 0.01650208 0.01748961 0.01732802 0.01898639\n",
      " 0.018367   0.01914948 0.01798737 0.01755455 0.01788422 0.01636072\n",
      " 0.0160725  0.01624233 0.01453575 0.01586121 0.01647061 0.01632225\n",
      " 0.01581625 0.01572284 0.01650058 0.01298727 0.01524681 0.01525505\n",
      " 0.01455748 0.01526329 0.01445259 0.01395457 0.01376651 0.01432421\n",
      " 0.01388464 0.01347355 0.01552479 0.01887151 0.01924939 0.01929784\n",
      " 0.01947267 0.0185718  0.01794067 0.01607924 0.01648559 0.01691517\n",
      " 0.0171382  0.0171964  0.01806055 0.01777258 0.01770939 0.01925613\n",
      " 0.02000539 0.01959904 0.01949265 0.01834702 0.02256614 0.02275095\n",
      " 0.02288258 0.02244625 0.02305066 0.02226493 0.02370502 0.02289756\n",
      " 0.02338533 0.02098444 0.02001214 0.01991049 0.01965898 0.01979385\n",
      " 0.01883329 0.01842694 0.01865497 0.0188298  0.01935928 0.01902878\n",
      " 0.01915273 0.0192671  0.01937592 0.01948399 0.01959286 0.01970233\n",
      " 0.01981171 0.01992031 0.02002756 0.02013298 0.02023626 0.02033715\n",
      " 0.02043547 0.02053117 0.02062422 0.02071471 0.02080269 0.02088831\n",
      " 0.02097168 0.02105296 0.02113229 0.02120982 0.02128566 0.02135997]\n",
      "25 day output [[0.02143281]]\n",
      "26 day input [0.00985859 0.01151047 0.0120914  0.01228971 0.01226973 0.01287413\n",
      " 0.01246778 0.01243606 0.01120077 0.00997847 0.01024496 0.00927416\n",
      " 0.01037483 0.01046974 0.00959385 0.00964879 0.00880812 0.00803538\n",
      " 0.00822519 0.00802539 0.008162   0.01008686 0.0097472  0.01048797\n",
      " 0.01114658 0.01120227 0.01125722 0.01105916 0.01259441 0.0131104\n",
      " 0.01308043 0.01365986 0.01401127 0.01308543 0.01287064 0.01314212\n",
      " 0.01259091 0.01241958 0.01034811 0.00901442 0.0100519  0.01054467\n",
      " 0.01085761 0.01101745 0.0121913  0.01177022 0.01332694 0.01408794\n",
      " 0.01425778 0.01461243 0.0146474  0.01679179 0.01744465 0.01738621\n",
      " 0.01715818 0.01650208 0.01748961 0.01732802 0.01898639 0.018367\n",
      " 0.01914948 0.01798737 0.01755455 0.01788422 0.01636072 0.0160725\n",
      " 0.01624233 0.01453575 0.01586121 0.01647061 0.01632225 0.01581625\n",
      " 0.01572284 0.01650058 0.01298727 0.01524681 0.01525505 0.01455748\n",
      " 0.01526329 0.01445259 0.01395457 0.01376651 0.01432421 0.01388464\n",
      " 0.01347355 0.01552479 0.01887151 0.01924939 0.01929784 0.01947267\n",
      " 0.0185718  0.01794067 0.01607924 0.01648559 0.01691517 0.0171382\n",
      " 0.0171964  0.01806055 0.01777258 0.01770939 0.01925613 0.02000539\n",
      " 0.01959904 0.01949265 0.01834702 0.02256614 0.02275095 0.02288258\n",
      " 0.02244625 0.02305066 0.02226493 0.02370502 0.02289756 0.02338533\n",
      " 0.02098444 0.02001214 0.01991049 0.01965898 0.01979385 0.01883329\n",
      " 0.01842694 0.01865497 0.0188298  0.01935928 0.01902878 0.01915273\n",
      " 0.0192671  0.01937592 0.01948399 0.01959286 0.01970233 0.01981171\n",
      " 0.01992031 0.02002756 0.02013298 0.02023626 0.02033715 0.02043547\n",
      " 0.02053117 0.02062422 0.02071471 0.02080269 0.02088831 0.02097168\n",
      " 0.02105296 0.02113229 0.02120982 0.02128566 0.02135997 0.02143281]\n",
      "26 day output [[0.02150431]]\n",
      "27 day input [0.01151047 0.0120914  0.01228971 0.01226973 0.01287413 0.01246778\n",
      " 0.01243606 0.01120077 0.00997847 0.01024496 0.00927416 0.01037483\n",
      " 0.01046974 0.00959385 0.00964879 0.00880812 0.00803538 0.00822519\n",
      " 0.00802539 0.008162   0.01008686 0.0097472  0.01048797 0.01114658\n",
      " 0.01120227 0.01125722 0.01105916 0.01259441 0.0131104  0.01308043\n",
      " 0.01365986 0.01401127 0.01308543 0.01287064 0.01314212 0.01259091\n",
      " 0.01241958 0.01034811 0.00901442 0.0100519  0.01054467 0.01085761\n",
      " 0.01101745 0.0121913  0.01177022 0.01332694 0.01408794 0.01425778\n",
      " 0.01461243 0.0146474  0.01679179 0.01744465 0.01738621 0.01715818\n",
      " 0.01650208 0.01748961 0.01732802 0.01898639 0.018367   0.01914948\n",
      " 0.01798737 0.01755455 0.01788422 0.01636072 0.0160725  0.01624233\n",
      " 0.01453575 0.01586121 0.01647061 0.01632225 0.01581625 0.01572284\n",
      " 0.01650058 0.01298727 0.01524681 0.01525505 0.01455748 0.01526329\n",
      " 0.01445259 0.01395457 0.01376651 0.01432421 0.01388464 0.01347355\n",
      " 0.01552479 0.01887151 0.01924939 0.01929784 0.01947267 0.0185718\n",
      " 0.01794067 0.01607924 0.01648559 0.01691517 0.0171382  0.0171964\n",
      " 0.01806055 0.01777258 0.01770939 0.01925613 0.02000539 0.01959904\n",
      " 0.01949265 0.01834702 0.02256614 0.02275095 0.02288258 0.02244625\n",
      " 0.02305066 0.02226493 0.02370502 0.02289756 0.02338533 0.02098444\n",
      " 0.02001214 0.01991049 0.01965898 0.01979385 0.01883329 0.01842694\n",
      " 0.01865497 0.0188298  0.01935928 0.01902878 0.01915273 0.0192671\n",
      " 0.01937592 0.01948399 0.01959286 0.01970233 0.01981171 0.01992031\n",
      " 0.02002756 0.02013298 0.02023626 0.02033715 0.02043547 0.02053117\n",
      " 0.02062422 0.02071471 0.02080269 0.02088831 0.02097168 0.02105296\n",
      " 0.02113229 0.02120982 0.02128566 0.02135997 0.02143281 0.02150431]\n",
      "27 day output [[0.02157455]]\n",
      "28 day input [0.0120914  0.01228971 0.01226973 0.01287413 0.01246778 0.01243606\n",
      " 0.01120077 0.00997847 0.01024496 0.00927416 0.01037483 0.01046974\n",
      " 0.00959385 0.00964879 0.00880812 0.00803538 0.00822519 0.00802539\n",
      " 0.008162   0.01008686 0.0097472  0.01048797 0.01114658 0.01120227\n",
      " 0.01125722 0.01105916 0.01259441 0.0131104  0.01308043 0.01365986\n",
      " 0.01401127 0.01308543 0.01287064 0.01314212 0.01259091 0.01241958\n",
      " 0.01034811 0.00901442 0.0100519  0.01054467 0.01085761 0.01101745\n",
      " 0.0121913  0.01177022 0.01332694 0.01408794 0.01425778 0.01461243\n",
      " 0.0146474  0.01679179 0.01744465 0.01738621 0.01715818 0.01650208\n",
      " 0.01748961 0.01732802 0.01898639 0.018367   0.01914948 0.01798737\n",
      " 0.01755455 0.01788422 0.01636072 0.0160725  0.01624233 0.01453575\n",
      " 0.01586121 0.01647061 0.01632225 0.01581625 0.01572284 0.01650058\n",
      " 0.01298727 0.01524681 0.01525505 0.01455748 0.01526329 0.01445259\n",
      " 0.01395457 0.01376651 0.01432421 0.01388464 0.01347355 0.01552479\n",
      " 0.01887151 0.01924939 0.01929784 0.01947267 0.0185718  0.01794067\n",
      " 0.01607924 0.01648559 0.01691517 0.0171382  0.0171964  0.01806055\n",
      " 0.01777258 0.01770939 0.01925613 0.02000539 0.01959904 0.01949265\n",
      " 0.01834702 0.02256614 0.02275095 0.02288258 0.02244625 0.02305066\n",
      " 0.02226493 0.02370502 0.02289756 0.02338533 0.02098444 0.02001214\n",
      " 0.01991049 0.01965898 0.01979385 0.01883329 0.01842694 0.01865497\n",
      " 0.0188298  0.01935928 0.01902878 0.01915273 0.0192671  0.01937592\n",
      " 0.01948399 0.01959286 0.01970233 0.01981171 0.01992031 0.02002756\n",
      " 0.02013298 0.02023626 0.02033715 0.02043547 0.02053117 0.02062422\n",
      " 0.02071471 0.02080269 0.02088831 0.02097168 0.02105296 0.02113229\n",
      " 0.02120982 0.02128566 0.02135997 0.02143281 0.02150431 0.02157455]\n",
      "28 day output [[0.02164359]]\n",
      "29 day input [0.01228971 0.01226973 0.01287413 0.01246778 0.01243606 0.01120077\n",
      " 0.00997847 0.01024496 0.00927416 0.01037483 0.01046974 0.00959385\n",
      " 0.00964879 0.00880812 0.00803538 0.00822519 0.00802539 0.008162\n",
      " 0.01008686 0.0097472  0.01048797 0.01114658 0.01120227 0.01125722\n",
      " 0.01105916 0.01259441 0.0131104  0.01308043 0.01365986 0.01401127\n",
      " 0.01308543 0.01287064 0.01314212 0.01259091 0.01241958 0.01034811\n",
      " 0.00901442 0.0100519  0.01054467 0.01085761 0.01101745 0.0121913\n",
      " 0.01177022 0.01332694 0.01408794 0.01425778 0.01461243 0.0146474\n",
      " 0.01679179 0.01744465 0.01738621 0.01715818 0.01650208 0.01748961\n",
      " 0.01732802 0.01898639 0.018367   0.01914948 0.01798737 0.01755455\n",
      " 0.01788422 0.01636072 0.0160725  0.01624233 0.01453575 0.01586121\n",
      " 0.01647061 0.01632225 0.01581625 0.01572284 0.01650058 0.01298727\n",
      " 0.01524681 0.01525505 0.01455748 0.01526329 0.01445259 0.01395457\n",
      " 0.01376651 0.01432421 0.01388464 0.01347355 0.01552479 0.01887151\n",
      " 0.01924939 0.01929784 0.01947267 0.0185718  0.01794067 0.01607924\n",
      " 0.01648559 0.01691517 0.0171382  0.0171964  0.01806055 0.01777258\n",
      " 0.01770939 0.01925613 0.02000539 0.01959904 0.01949265 0.01834702\n",
      " 0.02256614 0.02275095 0.02288258 0.02244625 0.02305066 0.02226493\n",
      " 0.02370502 0.02289756 0.02338533 0.02098444 0.02001214 0.01991049\n",
      " 0.01965898 0.01979385 0.01883329 0.01842694 0.01865497 0.0188298\n",
      " 0.01935928 0.01902878 0.01915273 0.0192671  0.01937592 0.01948399\n",
      " 0.01959286 0.01970233 0.01981171 0.01992031 0.02002756 0.02013298\n",
      " 0.02023626 0.02033715 0.02043547 0.02053117 0.02062422 0.02071471\n",
      " 0.02080269 0.02088831 0.02097168 0.02105296 0.02113229 0.02120982\n",
      " 0.02128566 0.02135997 0.02143281 0.02150431 0.02157455 0.02164359]\n",
      "29 day output [[0.0217115]]\n",
      "[[0.019028784707188606], [0.019152726978063583], [0.01926710270345211], [0.01937592402100563], [0.01948399469256401], [0.019592858850955963], [0.019702330231666565], [0.019811708480119705], [0.019920308142900467], [0.020027555525302887], [0.02013298124074936], [0.020236261188983917], [0.020337145775556564], [0.02043546736240387], [0.020531166344881058], [0.020624224096536636], [0.020714711397886276], [0.02080269157886505], [0.0208883099257946], [0.02097168006002903], [0.02105296216905117], [0.021132294088602066], [0.02120981737971306], [0.021285664290189743], [0.021359965205192566], [0.02143281325697899], [0.02150430902838707], [0.02157454565167427], [0.021643590182065964], [0.021711500361561775]]\n"
     ]
    }
   ],
   "source": [
    "# demonstrate prediction for next 30 days\n",
    "from numpy import array\n",
    "\n",
    "lst_output=[]\n",
    "n_steps=150\n",
    "i=0\n",
    "while(i<30):\n",
    "    \n",
    "    if(len(temp_input)>150):\n",
    "        #print(temp_input)\n",
    "        x_input=np.array(temp_input[1:])\n",
    "        print(\"{} day input {}\".format(i,x_input))\n",
    "        x_input=x_input.reshape(1,-1)\n",
    "        x_input = x_input.reshape((1, n_steps, 1))\n",
    "        #print(x_input)\n",
    "        yhat = model.predict(x_input, verbose=0)\n",
    "        print(\"{} day output {}\".format(i,yhat))\n",
    "        temp_input.extend(yhat[0].tolist())\n",
    "        temp_input=temp_input[1:]\n",
    "        #print(temp_input)\n",
    "        lst_output.extend(yhat.tolist())\n",
    "        i=i+1\n",
    "    else:\n",
    "        x_input = x_input.reshape((1, n_steps,1))\n",
    "        yhat = model.predict(x_input, verbose=0)\n",
    "        print(yhat[0])\n",
    "        temp_input.extend(yhat[0].tolist())\n",
    "        print(len(temp_input))\n",
    "        lst_output.extend(yhat.tolist())\n",
    "        i=i+1\n",
    "    \n",
    "\n",
    "print(lst_output)"
   ]
  },
  {
   "cell_type": "code",
   "execution_count": 227,
   "metadata": {},
   "outputs": [],
   "source": [
    "day_new=np.arange(1,151)\n",
    "day_pred=np.arange(151,181)"
   ]
  },
  {
   "cell_type": "code",
   "execution_count": 228,
   "metadata": {},
   "outputs": [],
   "source": [
    "import matplotlib.pyplot as plt"
   ]
  },
  {
   "cell_type": "code",
   "execution_count": 229,
   "metadata": {},
   "outputs": [
    {
     "data": {
      "text/plain": [
       "2517"
      ]
     },
     "execution_count": 229,
     "metadata": {},
     "output_type": "execute_result"
    }
   ],
   "source": [
    "len(df1)"
   ]
  },
  {
   "cell_type": "code",
   "execution_count": null,
   "metadata": {},
   "outputs": [],
   "source": []
  },
  {
   "cell_type": "code",
   "execution_count": 230,
   "metadata": {},
   "outputs": [
    {
     "data": {
      "text/plain": [
       "[<matplotlib.lines.Line2D at 0x1a52ae216a0>]"
      ]
     },
     "execution_count": 230,
     "metadata": {},
     "output_type": "execute_result"
    },
    {
     "data": {
      "image/png": "[encoded data removed]",
      "text/plain": [
       "<Figure size 640x480 with 1 Axes>"
      ]
     },
     "metadata": {},
     "output_type": "display_data"
    }
   ],
   "source": [
    "plt.plot(day_new,scaler.inverse_transform(df1[2367:]))\n",
    "plt.plot(day_pred,scaler.inverse_transform(lst_output))"
   ]
  },
  {
   "cell_type": "code",
   "execution_count": 231,
   "metadata": {},
   "outputs": [
    {
     "data": {
      "text/plain": [
       "[<matplotlib.lines.Line2D at 0x1a52ae75490>]"
      ]
     },
     "execution_count": 231,
     "metadata": {},
     "output_type": "execute_result"
    },
    {
     "data": {
      "image/png": "[encoded data removed]",
      "text/plain": [
       "<Figure size 640x480 with 1 Axes>"
      ]
     },
     "metadata": {},
     "output_type": "display_data"
    }
   ],
   "source": [
    "df3=df1.tolist()\n",
    "df3.extend(lst_output)\n",
    "plt.plot(df3[1000:])"
   ]
  },
  {
   "cell_type": "code",
   "execution_count": 232,
   "metadata": {},
   "outputs": [],
   "source": [
    "df3=scaler.inverse_transform(df3).tolist()"
   ]
  },
  {
   "cell_type": "code",
   "execution_count": 233,
   "metadata": {},
   "outputs": [
    {
     "data": {
      "text/plain": [
       "[<matplotlib.lines.Line2D at 0x1a52ae89a60>]"
      ]
     },
     "execution_count": 233,
     "metadata": {},
     "output_type": "execute_result"
    },
    {
     "data": {
      "image/png": "[encoded data removed]",
      "text/plain": [
       "<Figure size 640x480 with 1 Axes>"
      ]
     },
     "metadata": {},
     "output_type": "display_data"
    }
   ],
   "source": [
    "plt.plot(df3)"
   ]
  },
  {
   "cell_type": "code",
   "execution_count": null,
   "metadata": {},
   "outputs": [],
   "source": []
  },
  {
   "cell_type": "code",
   "execution_count": null,
   "metadata": {},
   "outputs": [],
   "source": []
  },
  {
   "cell_type": "code",
   "execution_count": null,
   "metadata": {},
   "outputs": [],
   "source": []
  },
  {
   "cell_type": "code",
   "execution_count": null,
   "metadata": {},
   "outputs": [],
   "source": []
  }
 ],
 "metadata": {
  "kernelspec": {
   "display_name": "Python 3 (ipykernel)",
   "language": "python",
   "name": "python3"
  },
  "language_info": {
   "codemirror_mode": {
    "name": "ipython",
    "version": 3
   },
   "file_extension": ".py",
   "mimetype": "text/x-python",
   "name": "python",
   "nbconvert_exporter": "python",
   "pygments_lexer": "ipython3",
   "version": "3.12.2"
  }
 },
 "nbformat": 4,
 "nbformat_minor": 4
}
